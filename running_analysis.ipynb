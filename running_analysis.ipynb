{
    "metadata": {
        "kernelspec": {
            "name": "SQL",
            "display_name": "SQL",
            "language": "sql"
        },
        "language_info": {
            "name": "sql",
            "version": ""
        }
    },
    "nbformat_minor": 2,
    "nbformat": 4,
    "cells": [
        {
            "cell_type": "markdown",
            "source": [
                "## **Create a table to load the data into.**"
            ],
            "metadata": {
                "azdata_cell_guid": "9f89c4bf-3159-4ea7-9523-e6adb6b569d6"
            },
            "attachments": {}
        },
        {
            "cell_type": "code",
            "source": [
                "--- create initial table to load the Garmin Connect data into\r\n",
                "CREATE TABLE gc_2123 (\r\n",
                "    activity_type VARCHAR(50),\r\n",
                "    activity_date DATETIME,\r\n",
                "    title VARCHAR(100),\r\n",
                "    distance DECIMAL(10,2),\r\n",
                "    calories INT,\r\n",
                "    total_time TIME,\r\n",
                "    avg_hr INT,\r\n",
                "    max_hr INT,\r\n",
                "    avg_run_cadence INT,\r\n",
                "    max_run_cadence INT,\r\n",
                "    avg_pace VARCHAR(5),\r\n",
                "    best_pace VARCHAR(5),\r\n",
                "    total_ascent INT,\r\n",
                "    total_descent INT,\r\n",
                "    avg_stride_length DECIMAL(10,2),\r\n",
                "    best_lap_time VARCHAR(10),\r\n",
                "    number_of_laps INT,\r\n",
                "    moving_time TIME,\r\n",
                "    elapsed_time TIME,\r\n",
                "    min_elevation INT,\r\n",
                "    max_elvation INT\r\n",
                ");"
            ],
            "metadata": {
                "azdata_cell_guid": "f3e66b8a-9280-4d1f-964f-5f4b56fd2f32",
                "language": "sql",
                "tags": []
            },
            "outputs": [
                {
                    "output_type": "display_data",
                    "data": {
                        "text/html": "Commands completed successfully."
                    },
                    "metadata": {}
                },
                {
                    "output_type": "display_data",
                    "data": {
                        "text/html": "Total execution time: 00:00:00.033"
                    },
                    "metadata": {}
                }
            ],
            "execution_count": 2
        },
        {
            "cell_type": "code",
            "source": [
                "--- take a look at the top 10 rows of the data\r\n",
                "SELECT TOP 10\r\n",
                "*\r\n",
                "FROM gc_2123;"
            ],
            "metadata": {
                "azdata_cell_guid": "b6335132-4026-485a-8a3e-26b726ef04df",
                "language": "sql",
                "tags": []
            },
            "outputs": [
                {
                    "output_type": "display_data",
                    "data": {
                        "text/html": "(10 rows affected)"
                    },
                    "metadata": {}
                },
                {
                    "output_type": "display_data",
                    "data": {
                        "text/html": "Total execution time: 00:00:00.710"
                    },
                    "metadata": {}
                },
                {
                    "output_type": "execute_result",
                    "execution_count": 69,
                    "data": {
                        "application/vnd.dataresource+json": {
                            "schema": {
                                "fields": [
                                    {
                                        "name": "activity_type"
                                    },
                                    {
                                        "name": "activity_date"
                                    },
                                    {
                                        "name": "title"
                                    },
                                    {
                                        "name": "distance"
                                    },
                                    {
                                        "name": "calories"
                                    },
                                    {
                                        "name": "total_time"
                                    },
                                    {
                                        "name": "avg_hr"
                                    },
                                    {
                                        "name": "max_hr"
                                    },
                                    {
                                        "name": "avg_run_cadence"
                                    },
                                    {
                                        "name": "max_run_cadence"
                                    },
                                    {
                                        "name": "avg_pace"
                                    },
                                    {
                                        "name": "best_pace"
                                    },
                                    {
                                        "name": "total_ascent"
                                    },
                                    {
                                        "name": "total_descent"
                                    },
                                    {
                                        "name": "avg_stride_length"
                                    },
                                    {
                                        "name": "best_lap_time"
                                    },
                                    {
                                        "name": "number_of_laps"
                                    },
                                    {
                                        "name": "moving_time"
                                    },
                                    {
                                        "name": "elapsed_time"
                                    },
                                    {
                                        "name": "min_elevation"
                                    },
                                    {
                                        "name": "max_elvation"
                                    }
                                ]
                            },
                            "data": [
                                {
                                    "activity_type": "Running",
                                    "activity_date": "2023-12-31 11:46:00.000",
                                    "title": "Seminole County Running",
                                    "distance": "12.07",
                                    "calories": "1126",
                                    "total_time": "01:22:29",
                                    "avg_hr": "163",
                                    "max_hr": "182",
                                    "avg_run_cadence": "190",
                                    "max_run_cadence": "198",
                                    "avg_pace": "6:50",
                                    "best_pace": "5:08",
                                    "total_ascent": "229",
                                    "total_descent": "223",
                                    "avg_stride_length": "1.24",
                                    "best_lap_time": "00:23.0",
                                    "number_of_laps": "13",
                                    "moving_time": "01:22:25",
                                    "elapsed_time": "01:22:58",
                                    "min_elevation": "13",
                                    "max_elvation": "72"
                                },
                                {
                                    "activity_type": "Running",
                                    "activity_date": "2023-12-29 11:16:00.000",
                                    "title": "Miami County Running",
                                    "distance": "5.27",
                                    "calories": "519",
                                    "total_time": "00:40:44",
                                    "avg_hr": "152",
                                    "max_hr": "166",
                                    "avg_run_cadence": "190",
                                    "max_run_cadence": "198",
                                    "avg_pace": "7:44",
                                    "best_pace": "5:53",
                                    "total_ascent": "104",
                                    "total_descent": "102",
                                    "avg_stride_length": "1.10",
                                    "best_lap_time": "01:55.2",
                                    "number_of_laps": "6",
                                    "moving_time": "00:40:41",
                                    "elapsed_time": "00:42:14",
                                    "min_elevation": "787",
                                    "max_elvation": "819"
                                },
                                {
                                    "activity_type": "Running",
                                    "activity_date": "2023-12-28 11:15:00.000",
                                    "title": "Miami County Running",
                                    "distance": "5.01",
                                    "calories": "493",
                                    "total_time": "00:38:12",
                                    "avg_hr": "150",
                                    "max_hr": "159",
                                    "avg_run_cadence": "188",
                                    "max_run_cadence": "194",
                                    "avg_pace": "7:38",
                                    "best_pace": "6:11",
                                    "total_ascent": "21",
                                    "total_descent": "19",
                                    "avg_stride_length": "1.12",
                                    "best_lap_time": "00:02.3",
                                    "number_of_laps": "6",
                                    "moving_time": "00:38:11",
                                    "elapsed_time": "00:38:12",
                                    "min_elevation": "794",
                                    "max_elvation": "801"
                                },
                                {
                                    "activity_type": "Running",
                                    "activity_date": "2023-12-27 10:05:00.000",
                                    "title": "Tipp City Running",
                                    "distance": "5.01",
                                    "calories": "457",
                                    "total_time": "00:35:34",
                                    "avg_hr": "151",
                                    "max_hr": "169",
                                    "avg_run_cadence": "190",
                                    "max_run_cadence": "202",
                                    "avg_pace": "7:06",
                                    "best_pace": "5:42",
                                    "total_ascent": "137",
                                    "total_descent": "137",
                                    "avg_stride_length": "1.19",
                                    "best_lap_time": "00:01.8",
                                    "number_of_laps": "6",
                                    "moving_time": "00:35:30",
                                    "elapsed_time": "00:35:47",
                                    "min_elevation": "798",
                                    "max_elvation": "902"
                                },
                                {
                                    "activity_type": "Running",
                                    "activity_date": "2023-12-26 10:49:00.000",
                                    "title": "Vandalia Running",
                                    "distance": "5.01",
                                    "calories": "403",
                                    "total_time": "00:36:09",
                                    "avg_hr": "141",
                                    "max_hr": "151",
                                    "avg_run_cadence": "190",
                                    "max_run_cadence": "198",
                                    "avg_pace": "7:13",
                                    "best_pace": "5:24",
                                    "total_ascent": "110",
                                    "total_descent": "103",
                                    "avg_stride_length": "1.17",
                                    "best_lap_time": "00:01.8",
                                    "number_of_laps": "6",
                                    "moving_time": "00:36:08",
                                    "elapsed_time": "00:36:09",
                                    "min_elevation": "782",
                                    "max_elvation": "811"
                                },
                                {
                                    "activity_type": "Running",
                                    "activity_date": "2023-12-25 09:35:00.000",
                                    "title": "Tipp City Running",
                                    "distance": "10.13",
                                    "calories": "920",
                                    "total_time": "01:11:06",
                                    "avg_hr": "159",
                                    "max_hr": "173",
                                    "avg_run_cadence": "190",
                                    "max_run_cadence": "202",
                                    "avg_pace": "7:01",
                                    "best_pace": "5:27",
                                    "total_ascent": "463",
                                    "total_descent": "464",
                                    "avg_stride_length": "1.20",
                                    "best_lap_time": "00:48.7",
                                    "number_of_laps": "11",
                                    "moving_time": "01:11:01",
                                    "elapsed_time": "01:17:24",
                                    "min_elevation": "820",
                                    "max_elvation": "944"
                                },
                                {
                                    "activity_type": "Running",
                                    "activity_date": "2023-12-24 10:38:00.000",
                                    "title": "Tipp City Running",
                                    "distance": "6.01",
                                    "calories": "541",
                                    "total_time": "00:42:18",
                                    "avg_hr": "153",
                                    "max_hr": "162",
                                    "avg_run_cadence": "190",
                                    "max_run_cadence": "200",
                                    "avg_pace": "7:02",
                                    "best_pace": "6:06",
                                    "total_ascent": "176",
                                    "total_descent": "177",
                                    "avg_stride_length": "1.20",
                                    "best_lap_time": "00:01.9",
                                    "number_of_laps": "7",
                                    "moving_time": "00:42:13",
                                    "elapsed_time": "00:42:47",
                                    "min_elevation": "791",
                                    "max_elvation": "909"
                                },
                                {
                                    "activity_type": "Running",
                                    "activity_date": "2023-12-23 10:15:00.000",
                                    "title": "Tipp City Running",
                                    "distance": "6.01",
                                    "calories": "595",
                                    "total_time": "00:43:11",
                                    "avg_hr": "161",
                                    "max_hr": "176",
                                    "avg_run_cadence": "190",
                                    "max_run_cadence": "194",
                                    "avg_pace": "7:11",
                                    "best_pace": "5:57",
                                    "total_ascent": "83",
                                    "total_descent": "86",
                                    "avg_stride_length": "1.18",
                                    "best_lap_time": "00:01.9",
                                    "number_of_laps": "7",
                                    "moving_time": "00:43:09",
                                    "elapsed_time": "00:43:11",
                                    "min_elevation": "784",
                                    "max_elvation": "821"
                                },
                                {
                                    "activity_type": "Running",
                                    "activity_date": "2023-12-22 16:12:00.000",
                                    "title": "Tipp City Running",
                                    "distance": "5.08",
                                    "calories": "456",
                                    "total_time": "00:34:48",
                                    "avg_hr": "156",
                                    "max_hr": "172",
                                    "avg_run_cadence": "190",
                                    "max_run_cadence": "196",
                                    "avg_pace": "6:51",
                                    "best_pace": "6:04",
                                    "total_ascent": "148",
                                    "total_descent": "148",
                                    "avg_stride_length": "1.24",
                                    "best_lap_time": "00:31.2",
                                    "number_of_laps": "6",
                                    "moving_time": "00:34:42",
                                    "elapsed_time": "00:37:13",
                                    "min_elevation": "816",
                                    "max_elvation": "909"
                                },
                                {
                                    "activity_type": "Running",
                                    "activity_date": "2023-12-20 16:56:00.000",
                                    "title": "Tipp City Running",
                                    "distance": "5.01",
                                    "calories": "462",
                                    "total_time": "00:34:43",
                                    "avg_hr": "156",
                                    "max_hr": "175",
                                    "avg_run_cadence": "190",
                                    "max_run_cadence": "198",
                                    "avg_pace": "6:56",
                                    "best_pace": "5:37",
                                    "total_ascent": "185",
                                    "total_descent": "189",
                                    "avg_stride_length": "1.23",
                                    "best_lap_time": "00:02.3",
                                    "number_of_laps": "6",
                                    "moving_time": "00:34:40",
                                    "elapsed_time": "00:34:45",
                                    "min_elevation": "809",
                                    "max_elvation": "899"
                                }
                            ]
                        },
                        "text/html": "<table><tr><th>activity_type</th><th>activity_date</th><th>title</th><th>distance</th><th>calories</th><th>total_time</th><th>avg_hr</th><th>max_hr</th><th>avg_run_cadence</th><th>max_run_cadence</th><th>avg_pace</th><th>best_pace</th><th>total_ascent</th><th>total_descent</th><th>avg_stride_length</th><th>best_lap_time</th><th>number_of_laps</th><th>moving_time</th><th>elapsed_time</th><th>min_elevation</th><th>max_elvation</th></tr><tr><td>Running</td><td>2023-12-31 11:46:00.000</td><td>Seminole County Running</td><td>12.07</td><td>1126</td><td>01:22:29</td><td>163</td><td>182</td><td>190</td><td>198</td><td>6:50</td><td>5:08</td><td>229</td><td>223</td><td>1.24</td><td>00:23.0</td><td>13</td><td>01:22:25</td><td>01:22:58</td><td>13</td><td>72</td></tr><tr><td>Running</td><td>2023-12-29 11:16:00.000</td><td>Miami County Running</td><td>5.27</td><td>519</td><td>00:40:44</td><td>152</td><td>166</td><td>190</td><td>198</td><td>7:44</td><td>5:53</td><td>104</td><td>102</td><td>1.10</td><td>01:55.2</td><td>6</td><td>00:40:41</td><td>00:42:14</td><td>787</td><td>819</td></tr><tr><td>Running</td><td>2023-12-28 11:15:00.000</td><td>Miami County Running</td><td>5.01</td><td>493</td><td>00:38:12</td><td>150</td><td>159</td><td>188</td><td>194</td><td>7:38</td><td>6:11</td><td>21</td><td>19</td><td>1.12</td><td>00:02.3</td><td>6</td><td>00:38:11</td><td>00:38:12</td><td>794</td><td>801</td></tr><tr><td>Running</td><td>2023-12-27 10:05:00.000</td><td>Tipp City Running</td><td>5.01</td><td>457</td><td>00:35:34</td><td>151</td><td>169</td><td>190</td><td>202</td><td>7:06</td><td>5:42</td><td>137</td><td>137</td><td>1.19</td><td>00:01.8</td><td>6</td><td>00:35:30</td><td>00:35:47</td><td>798</td><td>902</td></tr><tr><td>Running</td><td>2023-12-26 10:49:00.000</td><td>Vandalia Running</td><td>5.01</td><td>403</td><td>00:36:09</td><td>141</td><td>151</td><td>190</td><td>198</td><td>7:13</td><td>5:24</td><td>110</td><td>103</td><td>1.17</td><td>00:01.8</td><td>6</td><td>00:36:08</td><td>00:36:09</td><td>782</td><td>811</td></tr><tr><td>Running</td><td>2023-12-25 09:35:00.000</td><td>Tipp City Running</td><td>10.13</td><td>920</td><td>01:11:06</td><td>159</td><td>173</td><td>190</td><td>202</td><td>7:01</td><td>5:27</td><td>463</td><td>464</td><td>1.20</td><td>00:48.7</td><td>11</td><td>01:11:01</td><td>01:17:24</td><td>820</td><td>944</td></tr><tr><td>Running</td><td>2023-12-24 10:38:00.000</td><td>Tipp City Running</td><td>6.01</td><td>541</td><td>00:42:18</td><td>153</td><td>162</td><td>190</td><td>200</td><td>7:02</td><td>6:06</td><td>176</td><td>177</td><td>1.20</td><td>00:01.9</td><td>7</td><td>00:42:13</td><td>00:42:47</td><td>791</td><td>909</td></tr><tr><td>Running</td><td>2023-12-23 10:15:00.000</td><td>Tipp City Running</td><td>6.01</td><td>595</td><td>00:43:11</td><td>161</td><td>176</td><td>190</td><td>194</td><td>7:11</td><td>5:57</td><td>83</td><td>86</td><td>1.18</td><td>00:01.9</td><td>7</td><td>00:43:09</td><td>00:43:11</td><td>784</td><td>821</td></tr><tr><td>Running</td><td>2023-12-22 16:12:00.000</td><td>Tipp City Running</td><td>5.08</td><td>456</td><td>00:34:48</td><td>156</td><td>172</td><td>190</td><td>196</td><td>6:51</td><td>6:04</td><td>148</td><td>148</td><td>1.24</td><td>00:31.2</td><td>6</td><td>00:34:42</td><td>00:37:13</td><td>816</td><td>909</td></tr><tr><td>Running</td><td>2023-12-20 16:56:00.000</td><td>Tipp City Running</td><td>5.01</td><td>462</td><td>00:34:43</td><td>156</td><td>175</td><td>190</td><td>198</td><td>6:56</td><td>5:37</td><td>185</td><td>189</td><td>1.23</td><td>00:02.3</td><td>6</td><td>00:34:40</td><td>00:34:45</td><td>809</td><td>899</td></tr></table>"
                    },
                    "metadata": {}
                }
            ],
            "execution_count": 69
        },
        {
            "cell_type": "markdown",
            "source": [
                "## **Create another table taking only the data we need for the analysis.**  **Apply some transformations to get it in the format we want.**"
            ],
            "metadata": {
                "azdata_cell_guid": "93f8a8cc-09f1-4b0a-a6ee-3694a33e7d67"
            },
            "attachments": {}
        },
        {
            "cell_type": "code",
            "source": [
                "--- Create a new table and apply some transformations to get the data ready for analyzing.\r\n",
                "SELECT\r\n",
                "    activity_type,\r\n",
                "    activity_date,\r\n",
                "    CAST(activity_date AS date) AS activity_date_2,\r\n",
                "    CAST(activity_date AS time) AS activity_time,\r\n",
                "    CASE\r\n",
                "        WHEN CAST(activity_date AS date) BETWEEN '2021-08-01' AND '2021-11-21' THEN '2021 Philadelphia Marathon'\r\n",
                "        WHEN CAST(activity_date AS date) BETWEEN '2021-12-27' AND '2022-04-18' THEN '2022 Boston Marathon'\r\n",
                "        WHEN CAST(activity_date AS date) BETWEEN '2022-07-31' AND '2022-11-20' THEN '2022 Philadelphia Marathon'\r\n",
                "        WHEN CAST(activity_date AS date) BETWEEN '2022-12-26' AND '2023-04-17' THEN '2023 Boston Marathon'\r\n",
                "        WHEN CAST(activity_date AS date) BETWEEN '2023-07-30' AND '2023-11-19' THEN '2023 Philadelphia Marathon'\r\n",
                "    ELSE 'OFFSEASON' END AS training_block,\r\n",
                "    title,\r\n",
                "    distance,\r\n",
                "    calories,\r\n",
                "    total_time,\r\n",
                "    DATEPART(hour, total_time) AS hour_time,\r\n",
                "    DATEPART(minute, total_time) AS minute_time,\r\n",
                "    DATEPART(second, total_time) AS second_time,\r\n",
                "    (DATEPART(hour, total_time) * 3600) + (DATEPART(minute, total_time) * 60) + DATEPART(second, total_time) AS total_time_seconds,\r\n",
                "    avg_hr,\r\n",
                "    max_hr,\r\n",
                "    avg_run_cadence,\r\n",
                "    max_run_cadence,\r\n",
                "    avg_pace,\r\n",
                "    best_pace,\r\n",
                "    total_ascent,\r\n",
                "    total_descent,\r\n",
                "    avg_stride_length,\r\n",
                "    best_lap_time,\r\n",
                "    number_of_laps,\r\n",
                "    moving_time,\r\n",
                "    (DATEPART(hour, moving_time) * 3600) + (DATEPART(minute, moving_time) * 60) + DATEPART(second, moving_time) AS moving_time_seconds,\r\n",
                "    elapsed_time,\r\n",
                "    (DATEPART(hour, elapsed_time) * 3600) + (DATEPART(minute, elapsed_time) * 60) + DATEPART(second, elapsed_time) AS elapsed_time_seconds,\r\n",
                "    min_elevation,\r\n",
                "    max_elvation\r\n",
                "INTO marathon_2123\r\n",
                "FROM gc_2123\r\n",
                "WHERE activity_date >= '2021-08-01';"
            ],
            "metadata": {
                "language": "sql",
                "azdata_cell_guid": "6be95fba-3f9f-40b9-aac1-775cc2f9669a",
                "tags": []
            },
            "outputs": [
                {
                    "output_type": "display_data",
                    "data": {
                        "text/html": "(620 rows affected)"
                    },
                    "metadata": {}
                },
                {
                    "output_type": "display_data",
                    "data": {
                        "text/html": "Total execution time: 00:00:00.200"
                    },
                    "metadata": {}
                }
            ],
            "execution_count": 74
        },
        {
            "cell_type": "markdown",
            "source": [
                "## **Explore the dataset a little.**"
            ],
            "metadata": {
                "language": "sql",
                "azdata_cell_guid": "b48d9492-4e48-4663-94bd-ee4a69cdf8c6"
            },
            "attachments": {}
        },
        {
            "cell_type": "code",
            "source": [
                "--- take a look at the first 10 rows of our new table\r\n",
                "SELECT TOP 10\r\n",
                "*\r\n",
                "FROM marathon_2123\r\n",
                "ORDER BY activity_date;"
            ],
            "metadata": {
                "language": "sql",
                "azdata_cell_guid": "ca4beccb-a3b7-42ff-ae07-5ef56e35dd06",
                "tags": []
            },
            "outputs": [
                {
                    "output_type": "display_data",
                    "data": {
                        "text/html": "(10 rows affected)"
                    },
                    "metadata": {}
                },
                {
                    "output_type": "display_data",
                    "data": {
                        "text/html": "Total execution time: 00:00:00.076"
                    },
                    "metadata": {}
                },
                {
                    "output_type": "execute_result",
                    "execution_count": 75,
                    "data": {
                        "application/vnd.dataresource+json": {
                            "schema": {
                                "fields": [
                                    {
                                        "name": "activity_type"
                                    },
                                    {
                                        "name": "activity_date"
                                    },
                                    {
                                        "name": "activity_date_2"
                                    },
                                    {
                                        "name": "activity_time"
                                    },
                                    {
                                        "name": "training_block"
                                    },
                                    {
                                        "name": "title"
                                    },
                                    {
                                        "name": "distance"
                                    },
                                    {
                                        "name": "calories"
                                    },
                                    {
                                        "name": "total_time"
                                    },
                                    {
                                        "name": "hour_time"
                                    },
                                    {
                                        "name": "minute_time"
                                    },
                                    {
                                        "name": "second_time"
                                    },
                                    {
                                        "name": "total_time_seconds"
                                    },
                                    {
                                        "name": "avg_hr"
                                    },
                                    {
                                        "name": "max_hr"
                                    },
                                    {
                                        "name": "avg_run_cadence"
                                    },
                                    {
                                        "name": "max_run_cadence"
                                    },
                                    {
                                        "name": "avg_pace"
                                    },
                                    {
                                        "name": "best_pace"
                                    },
                                    {
                                        "name": "total_ascent"
                                    },
                                    {
                                        "name": "total_descent"
                                    },
                                    {
                                        "name": "avg_stride_length"
                                    },
                                    {
                                        "name": "best_lap_time"
                                    },
                                    {
                                        "name": "number_of_laps"
                                    },
                                    {
                                        "name": "moving_time"
                                    },
                                    {
                                        "name": "moving_time_seconds"
                                    },
                                    {
                                        "name": "elapsed_time"
                                    },
                                    {
                                        "name": "elapsed_time_seconds"
                                    },
                                    {
                                        "name": "min_elevation"
                                    },
                                    {
                                        "name": "max_elvation"
                                    }
                                ]
                            },
                            "data": [
                                {
                                    "activity_type": "Running",
                                    "activity_date": "2021-08-03 07:33:00.000",
                                    "activity_date_2": "2021-08-03",
                                    "activity_time": "07:33:00",
                                    "training_block": "2021 Philadelphia Marathon",
                                    "title": "Philadelphia Running",
                                    "distance": "6.01",
                                    "calories": "546",
                                    "total_time": "00:41:33",
                                    "hour_time": "0",
                                    "minute_time": "41",
                                    "second_time": "33",
                                    "total_time_seconds": "2493",
                                    "avg_hr": "167",
                                    "max_hr": "193",
                                    "avg_run_cadence": "188",
                                    "max_run_cadence": "194",
                                    "avg_pace": "6:55",
                                    "best_pace": "5:02",
                                    "total_ascent": "139",
                                    "total_descent": "137",
                                    "avg_stride_length": "1.24",
                                    "best_lap_time": "00:01.9",
                                    "number_of_laps": "7",
                                    "moving_time": "00:41:29",
                                    "moving_time_seconds": "2489",
                                    "elapsed_time": "00:41:56",
                                    "elapsed_time_seconds": "2516",
                                    "min_elevation": "3",
                                    "max_elvation": "82"
                                },
                                {
                                    "activity_type": "Running",
                                    "activity_date": "2021-08-04 07:32:00.000",
                                    "activity_date_2": "2021-08-04",
                                    "activity_time": "07:32:00",
                                    "training_block": "2021 Philadelphia Marathon",
                                    "title": "Philadelphia Running",
                                    "distance": "10.01",
                                    "calories": "944",
                                    "total_time": "01:10:05",
                                    "hour_time": "1",
                                    "minute_time": "10",
                                    "second_time": "5",
                                    "total_time_seconds": "4205",
                                    "avg_hr": "170",
                                    "max_hr": "194",
                                    "avg_run_cadence": "188",
                                    "max_run_cadence": "196",
                                    "avg_pace": "7:00",
                                    "best_pace": "5:45",
                                    "total_ascent": "208",
                                    "total_descent": "210",
                                    "avg_stride_length": "1.22",
                                    "best_lap_time": "00:01.9",
                                    "number_of_laps": "11",
                                    "moving_time": "01:10:01",
                                    "moving_time_seconds": "4201",
                                    "elapsed_time": "01:11:30",
                                    "elapsed_time_seconds": "4290",
                                    "min_elevation": "3",
                                    "max_elvation": "82"
                                },
                                {
                                    "activity_type": "Running",
                                    "activity_date": "2021-08-09 19:33:00.000",
                                    "activity_date_2": "2021-08-09",
                                    "activity_time": "19:33:00",
                                    "training_block": "2021 Philadelphia Marathon",
                                    "title": "Philadelphia Running",
                                    "distance": "10.01",
                                    "calories": "1029",
                                    "total_time": "01:12:52",
                                    "hour_time": "1",
                                    "minute_time": "12",
                                    "second_time": "52",
                                    "total_time_seconds": "4372",
                                    "avg_hr": "177",
                                    "max_hr": "183",
                                    "avg_run_cadence": "186",
                                    "max_run_cadence": "194",
                                    "avg_pace": "7:17",
                                    "best_pace": "6:14",
                                    "total_ascent": "198",
                                    "total_descent": "198",
                                    "avg_stride_length": "1.18",
                                    "best_lap_time": "00:02.1",
                                    "number_of_laps": "11",
                                    "moving_time": "01:12:46",
                                    "moving_time_seconds": "4366",
                                    "elapsed_time": "01:14:18",
                                    "elapsed_time_seconds": "4458",
                                    "min_elevation": "3",
                                    "max_elvation": "82"
                                },
                                {
                                    "activity_type": "Running",
                                    "activity_date": "2021-08-17 08:16:00.000",
                                    "activity_date_2": "2021-08-17",
                                    "activity_time": "08:16:00",
                                    "training_block": "2021 Philadelphia Marathon",
                                    "title": "Philadelphia Running",
                                    "distance": "6.01",
                                    "calories": "579",
                                    "total_time": "00:42:55",
                                    "hour_time": "0",
                                    "minute_time": "42",
                                    "second_time": "55",
                                    "total_time_seconds": "2575",
                                    "avg_hr": "174",
                                    "max_hr": "183",
                                    "avg_run_cadence": "186",
                                    "max_run_cadence": "194",
                                    "avg_pace": "7:09",
                                    "best_pace": "4:32",
                                    "total_ascent": "123",
                                    "total_descent": "123",
                                    "avg_stride_length": "1.21",
                                    "best_lap_time": "00:02.0",
                                    "number_of_laps": "7",
                                    "moving_time": "00:42:52",
                                    "moving_time_seconds": "2572",
                                    "elapsed_time": "00:43:48",
                                    "elapsed_time_seconds": "2628",
                                    "min_elevation": "3",
                                    "max_elvation": "82"
                                },
                                {
                                    "activity_type": "Running",
                                    "activity_date": "2021-08-18 19:06:00.000",
                                    "activity_date_2": "2021-08-18",
                                    "activity_time": "19:06:00",
                                    "training_block": "2021 Philadelphia Marathon",
                                    "title": "Philadelphia Running",
                                    "distance": "6.00",
                                    "calories": "560",
                                    "total_time": "00:43:14",
                                    "hour_time": "0",
                                    "minute_time": "43",
                                    "second_time": "14",
                                    "total_time_seconds": "2594",
                                    "avg_hr": "172",
                                    "max_hr": "190",
                                    "avg_run_cadence": "186",
                                    "max_run_cadence": "192",
                                    "avg_pace": "7:12",
                                    "best_pace": "5:22",
                                    "total_ascent": "132",
                                    "total_descent": "132",
                                    "avg_stride_length": "1.20",
                                    "best_lap_time": "00:01.4",
                                    "number_of_laps": "7",
                                    "moving_time": "00:43:04",
                                    "moving_time_seconds": "2584",
                                    "elapsed_time": "00:46:17",
                                    "elapsed_time_seconds": "2777",
                                    "min_elevation": "3",
                                    "max_elvation": "82"
                                },
                                {
                                    "activity_type": "Running",
                                    "activity_date": "2021-08-19 08:03:00.000",
                                    "activity_date_2": "2021-08-19",
                                    "activity_time": "08:03:00",
                                    "training_block": "2021 Philadelphia Marathon",
                                    "title": "Philadelphia Running",
                                    "distance": "6.00",
                                    "calories": "558",
                                    "total_time": "00:43:13",
                                    "hour_time": "0",
                                    "minute_time": "43",
                                    "second_time": "13",
                                    "total_time_seconds": "2593",
                                    "avg_hr": "172",
                                    "max_hr": "196",
                                    "avg_run_cadence": "188",
                                    "max_run_cadence": "196",
                                    "avg_pace": "7:12",
                                    "best_pace": "5:46",
                                    "total_ascent": "123",
                                    "total_descent": "123",
                                    "avg_stride_length": "1.20",
                                    "best_lap_time": "00:01.0",
                                    "number_of_laps": "7",
                                    "moving_time": "00:43:06",
                                    "moving_time_seconds": "2586",
                                    "elapsed_time": "00:47:34",
                                    "elapsed_time_seconds": "2854",
                                    "min_elevation": "NULL",
                                    "max_elvation": "82"
                                },
                                {
                                    "activity_type": "Running",
                                    "activity_date": "2021-08-23 18:11:00.000",
                                    "activity_date_2": "2021-08-23",
                                    "activity_time": "18:11:00",
                                    "training_block": "2021 Philadelphia Marathon",
                                    "title": "Philadelphia Running",
                                    "distance": "4.01",
                                    "calories": "381",
                                    "total_time": "00:28:09",
                                    "hour_time": "0",
                                    "minute_time": "28",
                                    "second_time": "9",
                                    "total_time_seconds": "1689",
                                    "avg_hr": "179",
                                    "max_hr": "189",
                                    "avg_run_cadence": "186",
                                    "max_run_cadence": "194",
                                    "avg_pace": "7:02",
                                    "best_pace": "5:51",
                                    "total_ascent": "94",
                                    "total_descent": "93",
                                    "avg_stride_length": "1.23",
                                    "best_lap_time": "00:02.0",
                                    "number_of_laps": "5",
                                    "moving_time": "00:28:04",
                                    "moving_time_seconds": "1684",
                                    "elapsed_time": "00:29:49",
                                    "elapsed_time_seconds": "1789",
                                    "min_elevation": "3",
                                    "max_elvation": "82"
                                },
                                {
                                    "activity_type": "Running",
                                    "activity_date": "2021-08-28 09:40:00.000",
                                    "activity_date_2": "2021-08-28",
                                    "activity_time": "09:40:00",
                                    "training_block": "2021 Philadelphia Marathon",
                                    "title": "Philadelphia Running",
                                    "distance": "4.00",
                                    "calories": "378",
                                    "total_time": "00:28:02",
                                    "hour_time": "0",
                                    "minute_time": "28",
                                    "second_time": "2",
                                    "total_time_seconds": "1682",
                                    "avg_hr": "180",
                                    "max_hr": "190",
                                    "avg_run_cadence": "186",
                                    "max_run_cadence": "194",
                                    "avg_pace": "7:00",
                                    "best_pace": "6:10",
                                    "total_ascent": "120",
                                    "total_descent": "120",
                                    "avg_stride_length": "1.24",
                                    "best_lap_time": "00:01.3",
                                    "number_of_laps": "5",
                                    "moving_time": "00:28:00",
                                    "moving_time_seconds": "1680",
                                    "elapsed_time": "00:28:20",
                                    "elapsed_time_seconds": "1700",
                                    "min_elevation": "NULL",
                                    "max_elvation": "82"
                                },
                                {
                                    "activity_type": "Running",
                                    "activity_date": "2021-08-30 07:41:00.000",
                                    "activity_date_2": "2021-08-30",
                                    "activity_time": "07:41:00",
                                    "training_block": "2021 Philadelphia Marathon",
                                    "title": "Philadelphia Running",
                                    "distance": "6.01",
                                    "calories": "595",
                                    "total_time": "00:43:01",
                                    "hour_time": "0",
                                    "minute_time": "43",
                                    "second_time": "1",
                                    "total_time_seconds": "2581",
                                    "avg_hr": "184",
                                    "max_hr": "192",
                                    "avg_run_cadence": "186",
                                    "max_run_cadence": "198",
                                    "avg_pace": "7:10",
                                    "best_pace": "5:17",
                                    "total_ascent": "116",
                                    "total_descent": "116",
                                    "avg_stride_length": "1.21",
                                    "best_lap_time": "00:02.0",
                                    "number_of_laps": "7",
                                    "moving_time": "00:42:59",
                                    "moving_time_seconds": "2579",
                                    "elapsed_time": "00:43:29",
                                    "elapsed_time_seconds": "2609",
                                    "min_elevation": "3",
                                    "max_elvation": "82"
                                },
                                {
                                    "activity_type": "Running",
                                    "activity_date": "2021-08-31 08:26:00.000",
                                    "activity_date_2": "2021-08-31",
                                    "activity_time": "08:26:00",
                                    "training_block": "2021 Philadelphia Marathon",
                                    "title": "Philadelphia Running",
                                    "distance": "4.01",
                                    "calories": "333",
                                    "total_time": "00:28:57",
                                    "hour_time": "0",
                                    "minute_time": "28",
                                    "second_time": "57",
                                    "total_time_seconds": "1737",
                                    "avg_hr": "161",
                                    "max_hr": "184",
                                    "avg_run_cadence": "186",
                                    "max_run_cadence": "194",
                                    "avg_pace": "7:13",
                                    "best_pace": "5:20",
                                    "total_ascent": "93",
                                    "total_descent": "91",
                                    "avg_stride_length": "1.20",
                                    "best_lap_time": "00:02.1",
                                    "number_of_laps": "5",
                                    "moving_time": "00:28:54",
                                    "moving_time_seconds": "1734",
                                    "elapsed_time": "00:31:01",
                                    "elapsed_time_seconds": "1861",
                                    "min_elevation": "3",
                                    "max_elvation": "82"
                                }
                            ]
                        },
                        "text/html": "<table><tr><th>activity_type</th><th>activity_date</th><th>activity_date_2</th><th>activity_time</th><th>training_block</th><th>title</th><th>distance</th><th>calories</th><th>total_time</th><th>hour_time</th><th>minute_time</th><th>second_time</th><th>total_time_seconds</th><th>avg_hr</th><th>max_hr</th><th>avg_run_cadence</th><th>max_run_cadence</th><th>avg_pace</th><th>best_pace</th><th>total_ascent</th><th>total_descent</th><th>avg_stride_length</th><th>best_lap_time</th><th>number_of_laps</th><th>moving_time</th><th>moving_time_seconds</th><th>elapsed_time</th><th>elapsed_time_seconds</th><th>min_elevation</th><th>max_elvation</th></tr><tr><td>Running</td><td>2021-08-03 07:33:00.000</td><td>2021-08-03</td><td>07:33:00</td><td>2021 Philadelphia Marathon</td><td>Philadelphia Running</td><td>6.01</td><td>546</td><td>00:41:33</td><td>0</td><td>41</td><td>33</td><td>2493</td><td>167</td><td>193</td><td>188</td><td>194</td><td>6:55</td><td>5:02</td><td>139</td><td>137</td><td>1.24</td><td>00:01.9</td><td>7</td><td>00:41:29</td><td>2489</td><td>00:41:56</td><td>2516</td><td>3</td><td>82</td></tr><tr><td>Running</td><td>2021-08-04 07:32:00.000</td><td>2021-08-04</td><td>07:32:00</td><td>2021 Philadelphia Marathon</td><td>Philadelphia Running</td><td>10.01</td><td>944</td><td>01:10:05</td><td>1</td><td>10</td><td>5</td><td>4205</td><td>170</td><td>194</td><td>188</td><td>196</td><td>7:00</td><td>5:45</td><td>208</td><td>210</td><td>1.22</td><td>00:01.9</td><td>11</td><td>01:10:01</td><td>4201</td><td>01:11:30</td><td>4290</td><td>3</td><td>82</td></tr><tr><td>Running</td><td>2021-08-09 19:33:00.000</td><td>2021-08-09</td><td>19:33:00</td><td>2021 Philadelphia Marathon</td><td>Philadelphia Running</td><td>10.01</td><td>1029</td><td>01:12:52</td><td>1</td><td>12</td><td>52</td><td>4372</td><td>177</td><td>183</td><td>186</td><td>194</td><td>7:17</td><td>6:14</td><td>198</td><td>198</td><td>1.18</td><td>00:02.1</td><td>11</td><td>01:12:46</td><td>4366</td><td>01:14:18</td><td>4458</td><td>3</td><td>82</td></tr><tr><td>Running</td><td>2021-08-17 08:16:00.000</td><td>2021-08-17</td><td>08:16:00</td><td>2021 Philadelphia Marathon</td><td>Philadelphia Running</td><td>6.01</td><td>579</td><td>00:42:55</td><td>0</td><td>42</td><td>55</td><td>2575</td><td>174</td><td>183</td><td>186</td><td>194</td><td>7:09</td><td>4:32</td><td>123</td><td>123</td><td>1.21</td><td>00:02.0</td><td>7</td><td>00:42:52</td><td>2572</td><td>00:43:48</td><td>2628</td><td>3</td><td>82</td></tr><tr><td>Running</td><td>2021-08-18 19:06:00.000</td><td>2021-08-18</td><td>19:06:00</td><td>2021 Philadelphia Marathon</td><td>Philadelphia Running</td><td>6.00</td><td>560</td><td>00:43:14</td><td>0</td><td>43</td><td>14</td><td>2594</td><td>172</td><td>190</td><td>186</td><td>192</td><td>7:12</td><td>5:22</td><td>132</td><td>132</td><td>1.20</td><td>00:01.4</td><td>7</td><td>00:43:04</td><td>2584</td><td>00:46:17</td><td>2777</td><td>3</td><td>82</td></tr><tr><td>Running</td><td>2021-08-19 08:03:00.000</td><td>2021-08-19</td><td>08:03:00</td><td>2021 Philadelphia Marathon</td><td>Philadelphia Running</td><td>6.00</td><td>558</td><td>00:43:13</td><td>0</td><td>43</td><td>13</td><td>2593</td><td>172</td><td>196</td><td>188</td><td>196</td><td>7:12</td><td>5:46</td><td>123</td><td>123</td><td>1.20</td><td>00:01.0</td><td>7</td><td>00:43:06</td><td>2586</td><td>00:47:34</td><td>2854</td><td>NULL</td><td>82</td></tr><tr><td>Running</td><td>2021-08-23 18:11:00.000</td><td>2021-08-23</td><td>18:11:00</td><td>2021 Philadelphia Marathon</td><td>Philadelphia Running</td><td>4.01</td><td>381</td><td>00:28:09</td><td>0</td><td>28</td><td>9</td><td>1689</td><td>179</td><td>189</td><td>186</td><td>194</td><td>7:02</td><td>5:51</td><td>94</td><td>93</td><td>1.23</td><td>00:02.0</td><td>5</td><td>00:28:04</td><td>1684</td><td>00:29:49</td><td>1789</td><td>3</td><td>82</td></tr><tr><td>Running</td><td>2021-08-28 09:40:00.000</td><td>2021-08-28</td><td>09:40:00</td><td>2021 Philadelphia Marathon</td><td>Philadelphia Running</td><td>4.00</td><td>378</td><td>00:28:02</td><td>0</td><td>28</td><td>2</td><td>1682</td><td>180</td><td>190</td><td>186</td><td>194</td><td>7:00</td><td>6:10</td><td>120</td><td>120</td><td>1.24</td><td>00:01.3</td><td>5</td><td>00:28:00</td><td>1680</td><td>00:28:20</td><td>1700</td><td>NULL</td><td>82</td></tr><tr><td>Running</td><td>2021-08-30 07:41:00.000</td><td>2021-08-30</td><td>07:41:00</td><td>2021 Philadelphia Marathon</td><td>Philadelphia Running</td><td>6.01</td><td>595</td><td>00:43:01</td><td>0</td><td>43</td><td>1</td><td>2581</td><td>184</td><td>192</td><td>186</td><td>198</td><td>7:10</td><td>5:17</td><td>116</td><td>116</td><td>1.21</td><td>00:02.0</td><td>7</td><td>00:42:59</td><td>2579</td><td>00:43:29</td><td>2609</td><td>3</td><td>82</td></tr><tr><td>Running</td><td>2021-08-31 08:26:00.000</td><td>2021-08-31</td><td>08:26:00</td><td>2021 Philadelphia Marathon</td><td>Philadelphia Running</td><td>4.01</td><td>333</td><td>00:28:57</td><td>0</td><td>28</td><td>57</td><td>1737</td><td>161</td><td>184</td><td>186</td><td>194</td><td>7:13</td><td>5:20</td><td>93</td><td>91</td><td>1.20</td><td>00:02.1</td><td>5</td><td>00:28:54</td><td>1734</td><td>00:31:01</td><td>1861</td><td>3</td><td>82</td></tr></table>"
                    },
                    "metadata": {}
                }
            ],
            "execution_count": 75
        },
        {
            "cell_type": "code",
            "source": [
                "--- find some basic statistics for the entire dataset\r\n",
                "SELECT\r\n",
                "    COUNT(*) AS total_number_runs,\r\n",
                "    SUM(distance) AS total_miles,\r\n",
                "    (SUM(total_time_seconds) / 60.0) / SUM(distance) AS overall_avg_pace,\r\n",
                "    AVG(distance) AS avg_run_distance\r\n",
                "FROM marathon_2123;"
            ],
            "metadata": {
                "azdata_cell_guid": "2b374e3e-28b3-468a-817a-9119d2cdc788",
                "language": "sql"
            },
            "outputs": [
                {
                    "output_type": "display_data",
                    "data": {
                        "text/html": "Warning: Null value is eliminated by an aggregate or other SET operation."
                    },
                    "metadata": {}
                },
                {
                    "output_type": "display_data",
                    "data": {
                        "text/html": "(1 row affected)"
                    },
                    "metadata": {}
                },
                {
                    "output_type": "display_data",
                    "data": {
                        "text/html": "Total execution time: 00:00:00.033"
                    },
                    "metadata": {}
                },
                {
                    "output_type": "execute_result",
                    "execution_count": 95,
                    "data": {
                        "application/vnd.dataresource+json": {
                            "schema": {
                                "fields": [
                                    {
                                        "name": "total_number_runs"
                                    },
                                    {
                                        "name": "total_miles"
                                    },
                                    {
                                        "name": "overall_avg_pace"
                                    },
                                    {
                                        "name": "avg_run_distance"
                                    }
                                ]
                            },
                            "data": [
                                {
                                    "total_number_runs": "620",
                                    "total_miles": "4550.55",
                                    "overall_avg_pace": "7.3414678810253705596026853",
                                    "avg_run_distance": "7.339596"
                                }
                            ]
                        },
                        "text/html": "<table><tr><th>total_number_runs</th><th>total_miles</th><th>overall_avg_pace</th><th>avg_run_distance</th></tr><tr><td>620</td><td>4550.55</td><td>7.3414678810253705596026853</td><td>7.339596</td></tr></table>"
                    },
                    "metadata": {}
                }
            ],
            "execution_count": 95
        },
        {
            "cell_type": "markdown",
            "source": [
                "## **Compare training blocks.**"
            ],
            "metadata": {
                "language": "sql",
                "azdata_cell_guid": "744e5528-7803-4cb9-9ec6-cf2dbc0666f2"
            },
            "attachments": {}
        },
        {
            "cell_type": "code",
            "source": [
                "--- find the total number of runs, mileage, time running, average pace, average heart rate, and average run distance for each training block\r\n",
                "SELECT\r\n",
                "    training_block,\r\n",
                "    COUNT(*) AS number_runs,\r\n",
                "    SUM(distance) AS total_miles,\r\n",
                "    SUM(total_time_seconds) / 3600.0 AS total_hrs_running,\r\n",
                "    (SUM(total_time_seconds) / 60.0) / SUM(distance) AS avg_pace,\r\n",
                "    AVG(1.0 * avg_hr) AS overall_avg_hr,\r\n",
                "    AVG(distance) AS avg_run_distance\r\n",
                "FROM marathon_2123\r\n",
                "WHERE training_block != 'OFFSEASON'\r\n",
                "GROUP BY training_block\r\n",
                "ORDER BY SUM(distance) DESC;\r\n",
                ""
            ],
            "metadata": {
                "language": "sql",
                "azdata_cell_guid": "9d3d9658-cac0-4a80-9399-e8141930de12"
            },
            "outputs": [
                {
                    "output_type": "display_data",
                    "data": {
                        "text/html": "Warning: Null value is eliminated by an aggregate or other SET operation."
                    },
                    "metadata": {}
                },
                {
                    "output_type": "display_data",
                    "data": {
                        "text/html": "(5 rows affected)"
                    },
                    "metadata": {}
                },
                {
                    "output_type": "display_data",
                    "data": {
                        "text/html": "Total execution time: 00:00:00.068"
                    },
                    "metadata": {}
                },
                {
                    "output_type": "execute_result",
                    "execution_count": 96,
                    "data": {
                        "application/vnd.dataresource+json": {
                            "schema": {
                                "fields": [
                                    {
                                        "name": "training_block"
                                    },
                                    {
                                        "name": "number_runs"
                                    },
                                    {
                                        "name": "total_miles"
                                    },
                                    {
                                        "name": "total_hrs_running"
                                    },
                                    {
                                        "name": "avg_pace"
                                    },
                                    {
                                        "name": "overall_avg_hr"
                                    },
                                    {
                                        "name": "avg_run_distance"
                                    }
                                ]
                            },
                            "data": [
                                {
                                    "training_block": "2023 Boston Marathon",
                                    "number_runs": "118",
                                    "total_miles": "908.58",
                                    "total_hrs_running": "108.941944",
                                    "avg_pace": "7.1942114794514517158643157",
                                    "overall_avg_hr": "150.474576",
                                    "avg_run_distance": "7.699830"
                                },
                                {
                                    "training_block": "2023 Philadelphia Marathon",
                                    "number_runs": "94",
                                    "total_miles": "806.93",
                                    "total_hrs_running": "100.376388",
                                    "avg_pace": "7.4635759396725862218531966",
                                    "overall_avg_hr": "147.510638",
                                    "avg_run_distance": "8.584361"
                                },
                                {
                                    "training_block": "2022 Boston Marathon",
                                    "number_runs": "86",
                                    "total_miles": "662.35",
                                    "total_hrs_running": "80.005555",
                                    "avg_pace": "7.2474270899071487884049218",
                                    "overall_avg_hr": "144.569767",
                                    "avg_run_distance": "7.701744"
                                },
                                {
                                    "training_block": "2022 Philadelphia Marathon",
                                    "number_runs": "92",
                                    "total_miles": "656.50",
                                    "total_hrs_running": "82.866111",
                                    "avg_pace": "7.5734450357958872810357958",
                                    "overall_avg_hr": "150.554347",
                                    "avg_run_distance": "7.135869"
                                },
                                {
                                    "training_block": "2021 Philadelphia Marathon",
                                    "number_runs": "44",
                                    "total_miles": "289.54",
                                    "total_hrs_running": "34.947777",
                                    "avg_pace": "7.2420621192235960489051599",
                                    "overall_avg_hr": "161.704545",
                                    "avg_run_distance": "6.580454"
                                }
                            ]
                        },
                        "text/html": "<table><tr><th>training_block</th><th>number_runs</th><th>total_miles</th><th>total_hrs_running</th><th>avg_pace</th><th>overall_avg_hr</th><th>avg_run_distance</th></tr><tr><td>2023 Boston Marathon</td><td>118</td><td>908.58</td><td>108.941944</td><td>7.1942114794514517158643157</td><td>150.474576</td><td>7.699830</td></tr><tr><td>2023 Philadelphia Marathon</td><td>94</td><td>806.93</td><td>100.376388</td><td>7.4635759396725862218531966</td><td>147.510638</td><td>8.584361</td></tr><tr><td>2022 Boston Marathon</td><td>86</td><td>662.35</td><td>80.005555</td><td>7.2474270899071487884049218</td><td>144.569767</td><td>7.701744</td></tr><tr><td>2022 Philadelphia Marathon</td><td>92</td><td>656.50</td><td>82.866111</td><td>7.5734450357958872810357958</td><td>150.554347</td><td>7.135869</td></tr><tr><td>2021 Philadelphia Marathon</td><td>44</td><td>289.54</td><td>34.947777</td><td>7.2420621192235960489051599</td><td>161.704545</td><td>6.580454</td></tr></table>"
                    },
                    "metadata": {}
                }
            ],
            "execution_count": 96
        },
        {
            "cell_type": "code",
            "source": [
                "--- Split the training into two 8-week periods to compare each half. Then find the mileage for each half along with the difference.\r\n",
                "WITH training_CTE AS (\r\n",
                "SELECT\r\n",
                "    activity_date_2,\r\n",
                "    training_block,\r\n",
                "    distance,\r\n",
                "    CASE\r\n",
                "        WHEN activity_date_2 BETWEEN '2021-08-01' AND '2021-09-26' THEN distance\r\n",
                "        WHEN activity_date_2 BETWEEN '2021-12-27' AND '2022-02-21' THEN distance\r\n",
                "        WHEN activity_date_2 BETWEEN '2022-07-31' AND '2022-09-25' THEN distance\r\n",
                "        WHEN activity_date_2 BETWEEN '2022-12-26' AND '2023-02-20' THEN distance\r\n",
                "        WHEN activity_date_2 BETWEEN '2023-07-30' AND '2023-09-24' THEN distance\r\n",
                "    ELSE 0 END AS first_half_training,\r\n",
                "    CASE\r\n",
                "        WHEN activity_date_2 BETWEEN '2021-09-27' AND '2021-11-21' THEN distance\r\n",
                "        WHEN activity_date_2 BETWEEN '2022-02-22' AND '2022-04-18' THEN distance\r\n",
                "        WHEN activity_date_2 BETWEEN '2022-09-26' AND '2022-11-20' THEN distance\r\n",
                "        WHEN activity_date_2 BETWEEN '2023-02-21' AND '2023-04-17' THEN distance\r\n",
                "        WHEN activity_date_2 BETWEEN '2023-09-25' AND '2023-11-19' THEN distance\r\n",
                "    ELSE 0 END AS second_half_training\r\n",
                "FROM marathon_2123)\r\n",
                "\r\n",
                "SELECT \r\n",
                "    training_block,\r\n",
                "    SUM(first_half_training) AS first_half_mileage,\r\n",
                "    SUM(second_half_training) AS second_half_mileage,\r\n",
                "    SUM(first_half_training) + SUM(second_half_training) AS total_mileage,\r\n",
                "    SUM(second_half_training) - SUM(first_half_training) AS second_half_dif\r\n",
                "FROM training_CTE\r\n",
                "GROUP BY training_block;"
            ],
            "metadata": {
                "language": "sql",
                "azdata_cell_guid": "2a52be41-dd10-4b0f-afb0-0cc5414467b2"
            },
            "outputs": [
                {
                    "output_type": "display_data",
                    "data": {
                        "text/html": "(6 rows affected)"
                    },
                    "metadata": {}
                },
                {
                    "output_type": "display_data",
                    "data": {
                        "text/html": "Total execution time: 00:00:00.071"
                    },
                    "metadata": {}
                },
                {
                    "output_type": "execute_result",
                    "execution_count": 30,
                    "data": {
                        "application/vnd.dataresource+json": {
                            "schema": {
                                "fields": [
                                    {
                                        "name": "training_block"
                                    },
                                    {
                                        "name": "first_half_mileage"
                                    },
                                    {
                                        "name": "second_half_mileage"
                                    },
                                    {
                                        "name": "total_mileage"
                                    },
                                    {
                                        "name": "second_half_dif"
                                    }
                                ]
                            },
                            "data": [
                                {
                                    "training_block": "2021 Philadelphia Marathon",
                                    "first_half_mileage": "88.33",
                                    "second_half_mileage": "201.21",
                                    "total_mileage": "289.54",
                                    "second_half_dif": "112.88"
                                },
                                {
                                    "training_block": "2022 Boston Marathon",
                                    "first_half_mileage": "387.86",
                                    "second_half_mileage": "274.49",
                                    "total_mileage": "662.35",
                                    "second_half_dif": "-113.37"
                                },
                                {
                                    "training_block": "2022 Philadelphia Marathon",
                                    "first_half_mileage": "273.56",
                                    "second_half_mileage": "356.54",
                                    "total_mileage": "630.10",
                                    "second_half_dif": "82.98"
                                },
                                {
                                    "training_block": "2023 Boston Marathon",
                                    "first_half_mileage": "406.52",
                                    "second_half_mileage": "475.64",
                                    "total_mileage": "882.16",
                                    "second_half_dif": "69.12"
                                },
                                {
                                    "training_block": "2023 Philadelphia Marathon",
                                    "first_half_mileage": "305.15",
                                    "second_half_mileage": "475.35",
                                    "total_mileage": "780.50",
                                    "second_half_dif": "170.20"
                                },
                                {
                                    "training_block": "OFFSEASON",
                                    "first_half_mileage": "0.00",
                                    "second_half_mileage": "79.25",
                                    "total_mileage": "79.25",
                                    "second_half_dif": "79.25"
                                }
                            ]
                        },
                        "text/html": "<table><tr><th>training_block</th><th>first_half_mileage</th><th>second_half_mileage</th><th>total_mileage</th><th>second_half_dif</th></tr><tr><td>2021 Philadelphia Marathon</td><td>88.33</td><td>201.21</td><td>289.54</td><td>112.88</td></tr><tr><td>2022 Boston Marathon</td><td>387.86</td><td>274.49</td><td>662.35</td><td>-113.37</td></tr><tr><td>2022 Philadelphia Marathon</td><td>273.56</td><td>356.54</td><td>630.10</td><td>82.98</td></tr><tr><td>2023 Boston Marathon</td><td>406.52</td><td>475.64</td><td>882.16</td><td>69.12</td></tr><tr><td>2023 Philadelphia Marathon</td><td>305.15</td><td>475.35</td><td>780.50</td><td>170.20</td></tr><tr><td>OFFSEASON</td><td>0.00</td><td>79.25</td><td>79.25</td><td>79.25</td></tr></table>"
                    },
                    "metadata": {}
                }
            ],
            "execution_count": 30
        },
        {
            "cell_type": "code",
            "source": [
                "--- Split the training into two 8-week periods and find the total time run for each half of training, along with the difference.\r\n",
                "WITH training_CTE AS (\r\n",
                "SELECT\r\n",
                "    activity_date_2,\r\n",
                "    training_block,\r\n",
                "    distance,\r\n",
                "    total_time_seconds,\r\n",
                "    CASE\r\n",
                "        WHEN activity_date_2 BETWEEN '2021-08-01' AND '2021-09-26' THEN total_time_seconds\r\n",
                "        WHEN activity_date_2 BETWEEN '2021-12-27' AND '2022-02-21' THEN total_time_seconds\r\n",
                "        WHEN activity_date_2 BETWEEN '2022-07-31' AND '2022-09-25' THEN total_time_seconds\r\n",
                "        WHEN activity_date_2 BETWEEN '2022-12-26' AND '2023-02-20' THEN total_time_seconds\r\n",
                "        WHEN activity_date_2 BETWEEN '2023-07-30' AND '2023-09-24' THEN total_time_seconds\r\n",
                "    ELSE 0 END AS first_half_training,\r\n",
                "    CASE\r\n",
                "        WHEN activity_date_2 BETWEEN '2021-09-27' AND '2021-11-21' THEN total_time_seconds\r\n",
                "        WHEN activity_date_2 BETWEEN '2022-02-22' AND '2022-04-18' THEN total_time_seconds\r\n",
                "        WHEN activity_date_2 BETWEEN '2022-09-26' AND '2022-11-20' THEN total_time_seconds\r\n",
                "        WHEN activity_date_2 BETWEEN '2023-02-21' AND '2023-04-17' THEN total_time_seconds\r\n",
                "        WHEN activity_date_2 BETWEEN '2023-09-25' AND '2023-11-19' THEN total_time_seconds\r\n",
                "    ELSE 0 END AS second_half_training\r\n",
                "FROM marathon_2123)\r\n",
                "\r\n",
                "SELECT \r\n",
                "    training_block,\r\n",
                "    SUM(first_half_training)/3600.0 AS first_half_hours_run,\r\n",
                "    SUM(second_half_training)/3600.0 AS second_half_hours_run,\r\n",
                "    (SUM(first_half_training) + SUM(second_half_training)) / 3600.0 AS total_hours_run,\r\n",
                "    (SUM(second_half_training) - SUM(first_half_training)) / 3600.0 AS second_half_dif\r\n",
                "FROM training_CTE\r\n",
                "GROUP BY training_block;"
            ],
            "metadata": {
                "language": "sql",
                "azdata_cell_guid": "f3e79808-0e58-4c27-84ed-94666127e130"
            },
            "outputs": [
                {
                    "output_type": "display_data",
                    "data": {
                        "text/html": "Warning: Null value is eliminated by an aggregate or other SET operation."
                    },
                    "metadata": {}
                },
                {
                    "output_type": "display_data",
                    "data": {
                        "text/html": "(6 rows affected)"
                    },
                    "metadata": {}
                },
                {
                    "output_type": "display_data",
                    "data": {
                        "text/html": "Total execution time: 00:00:00.375"
                    },
                    "metadata": {}
                },
                {
                    "output_type": "execute_result",
                    "execution_count": 23,
                    "data": {
                        "application/vnd.dataresource+json": {
                            "schema": {
                                "fields": [
                                    {
                                        "name": "training_block"
                                    },
                                    {
                                        "name": "first_half_time"
                                    },
                                    {
                                        "name": "second_half_time"
                                    },
                                    {
                                        "name": "total_time"
                                    },
                                    {
                                        "name": "second_half_dif"
                                    }
                                ]
                            },
                            "data": [
                                {
                                    "training_block": "2021 Philadelphia Marathon",
                                    "first_half_time": "10.445000",
                                    "second_half_time": "24.502777",
                                    "total_time": "34.947777",
                                    "second_half_dif": "14.057777"
                                },
                                {
                                    "training_block": "2022 Boston Marathon",
                                    "first_half_time": "47.116666",
                                    "second_half_time": "32.888888",
                                    "total_time": "80.005555",
                                    "second_half_dif": "-14.227777"
                                },
                                {
                                    "training_block": "2022 Philadelphia Marathon",
                                    "first_half_time": "36.202777",
                                    "second_half_time": "43.720000",
                                    "total_time": "79.922777",
                                    "second_half_dif": "7.517222"
                                },
                                {
                                    "training_block": "2023 Boston Marathon",
                                    "first_half_time": "48.962500",
                                    "second_half_time": "57.153611",
                                    "total_time": "106.116111",
                                    "second_half_dif": "8.191111"
                                },
                                {
                                    "training_block": "2023 Philadelphia Marathon",
                                    "first_half_time": "38.224444",
                                    "second_half_time": "59.264166",
                                    "total_time": "97.488611",
                                    "second_half_dif": "21.039722"
                                },
                                {
                                    "training_block": "OFFSEASON",
                                    "first_half_time": "0.000000",
                                    "second_half_time": "8.656944",
                                    "total_time": "8.656944",
                                    "second_half_dif": "8.656944"
                                }
                            ]
                        },
                        "text/html": "<table><tr><th>training_block</th><th>first_half_time</th><th>second_half_time</th><th>total_time</th><th>second_half_dif</th></tr><tr><td>2021 Philadelphia Marathon</td><td>10.445000</td><td>24.502777</td><td>34.947777</td><td>14.057777</td></tr><tr><td>2022 Boston Marathon</td><td>47.116666</td><td>32.888888</td><td>80.005555</td><td>-14.227777</td></tr><tr><td>2022 Philadelphia Marathon</td><td>36.202777</td><td>43.720000</td><td>79.922777</td><td>7.517222</td></tr><tr><td>2023 Boston Marathon</td><td>48.962500</td><td>57.153611</td><td>106.116111</td><td>8.191111</td></tr><tr><td>2023 Philadelphia Marathon</td><td>38.224444</td><td>59.264166</td><td>97.488611</td><td>21.039722</td></tr><tr><td>OFFSEASON</td><td>0.000000</td><td>8.656944</td><td>8.656944</td><td>8.656944</td></tr></table>"
                    },
                    "metadata": {}
                }
            ],
            "execution_count": 23
        },
        {
            "cell_type": "code",
            "source": [
                "--- Split the training into two 8-week periods and find the overall average pace for each half of training.\r\n",
                "WITH training_CTE AS (\r\n",
                "SELECT\r\n",
                "    activity_date_2,\r\n",
                "    training_block,\r\n",
                "    distance,\r\n",
                "    CASE\r\n",
                "        WHEN activity_date_2 BETWEEN '2021-08-01' AND '2021-09-26' THEN distance\r\n",
                "        WHEN activity_date_2 BETWEEN '2021-12-27' AND '2022-02-21' THEN distance\r\n",
                "        WHEN activity_date_2 BETWEEN '2022-07-31' AND '2022-09-25' THEN distance\r\n",
                "        WHEN activity_date_2 BETWEEN '2022-12-26' AND '2023-02-20' THEN distance\r\n",
                "        WHEN activity_date_2 BETWEEN '2023-07-30' AND '2023-09-24' THEN distance\r\n",
                "    ELSE 0 END AS first_half_mileage,\r\n",
                "    CASE\r\n",
                "        WHEN activity_date_2 BETWEEN '2021-09-27' AND '2021-11-21' THEN distance\r\n",
                "        WHEN activity_date_2 BETWEEN '2022-02-22' AND '2022-04-18' THEN distance\r\n",
                "        WHEN activity_date_2 BETWEEN '2022-09-26' AND '2022-11-20' THEN distance\r\n",
                "        WHEN activity_date_2 BETWEEN '2023-02-21' AND '2023-04-17' THEN distance\r\n",
                "        WHEN activity_date_2 BETWEEN '2023-09-25' AND '2023-11-19' THEN distance\r\n",
                "    ELSE 0 END AS second_half_mileage,\r\n",
                "    CASE\r\n",
                "        WHEN activity_date_2 BETWEEN '2021-08-01' AND '2021-09-26' THEN total_time_seconds\r\n",
                "        WHEN activity_date_2 BETWEEN '2021-12-27' AND '2022-02-21' THEN total_time_seconds\r\n",
                "        WHEN activity_date_2 BETWEEN '2022-07-31' AND '2022-09-25' THEN total_time_seconds\r\n",
                "        WHEN activity_date_2 BETWEEN '2022-12-26' AND '2023-02-20' THEN total_time_seconds\r\n",
                "        WHEN activity_date_2 BETWEEN '2023-07-30' AND '2023-09-24' THEN total_time_seconds\r\n",
                "    ELSE 0 END AS first_half_time,\r\n",
                "    CASE\r\n",
                "        WHEN activity_date_2 BETWEEN '2021-09-27' AND '2021-11-21' THEN total_time_seconds\r\n",
                "        WHEN activity_date_2 BETWEEN '2022-02-22' AND '2022-04-18' THEN total_time_seconds\r\n",
                "        WHEN activity_date_2 BETWEEN '2022-09-26' AND '2022-11-20' THEN total_time_seconds\r\n",
                "        WHEN activity_date_2 BETWEEN '2023-02-21' AND '2023-04-17' THEN total_time_seconds\r\n",
                "        WHEN activity_date_2 BETWEEN '2023-09-25' AND '2023-11-19' THEN total_time_seconds   \r\n",
                "    ELSE 0 END AS second_half_time\r\n",
                "FROM marathon_2123)\r\n",
                "\r\n",
                "SELECT \r\n",
                "    training_block,\r\n",
                "    (SUM(first_half_time) / 60.0) / SUM(first_half_mileage) AS first_half_avg_pace,\r\n",
                "    (SUM(second_half_time) / 60.0) / SUM(second_half_mileage) AS second_half_avg_pace\r\n",
                "FROM training_CTE\r\n",
                "GROUP BY training_block;"
            ],
            "metadata": {
                "azdata_cell_guid": "25d4894e-2508-442a-b87a-b6f0148bdf16",
                "language": "sql",
                "tags": []
            },
            "outputs": [
                {
                    "output_type": "display_data",
                    "data": {
                        "text/html": "Warning: Null value is eliminated by an aggregate or other SET operation."
                    },
                    "metadata": {}
                },
                {
                    "output_type": "display_data",
                    "data": {
                        "text/html": "Total execution time: 00:00:00.038"
                    },
                    "metadata": {}
                },
                {
                    "output_type": "execute_result",
                    "execution_count": 29,
                    "data": {
                        "application/vnd.dataresource+json": {
                            "schema": {
                                "fields": [
                                    {
                                        "name": "training_block"
                                    },
                                    {
                                        "name": "first_half_avg_pace"
                                    },
                                    {
                                        "name": "second_half_avg_pace"
                                    }
                                ]
                            },
                            "data": [
                                {
                                    "training_block": "2021 Philadelphia Marathon",
                                    "first_half_avg_pace": "7.0949847164043926185893807",
                                    "second_half_avg_pace": "7.3066282292132597783410367"
                                },
                                {
                                    "training_block": "2022 Boston Marathon",
                                    "first_half_avg_pace": "7.2887124220079410096426545",
                                    "second_half_avg_pace": "7.1890900688549673940762869"
                                },
                                {
                                    "training_block": "2022 Philadelphia Marathon",
                                    "first_half_avg_pace": "7.9403665228834624945167422",
                                    "second_half_avg_pace": "7.3573792561844393335951085"
                                },
                                {
                                    "training_block": "2023 Boston Marathon",
                                    "first_half_avg_pace": "7.2265817179966545311423792",
                                    "second_half_avg_pace": "7.2096893995458750315364561"
                                },
                                {
                                    "training_block": "2023 Philadelphia Marathon",
                                    "first_half_avg_pace": "7.5158665115516958872685564",
                                    "second_half_avg_pace": "7.4804880614284211633533186"
                                }
                            ]
                        },
                        "text/html": "<table><tr><th>training_block</th><th>first_half_avg_pace</th><th>second_half_avg_pace</th></tr><tr><td>2021 Philadelphia Marathon</td><td>7.0949847164043926185893807</td><td>7.3066282292132597783410367</td></tr><tr><td>2022 Boston Marathon</td><td>7.2887124220079410096426545</td><td>7.1890900688549673940762869</td></tr><tr><td>2022 Philadelphia Marathon</td><td>7.9403665228834624945167422</td><td>7.3573792561844393335951085</td></tr><tr><td>2023 Boston Marathon</td><td>7.2265817179966545311423792</td><td>7.2096893995458750315364561</td></tr><tr><td>2023 Philadelphia Marathon</td><td>7.5158665115516958872685564</td><td>7.4804880614284211633533186</td></tr></table>"
                    },
                    "metadata": {}
                },
                {
                    "output_type": "error",
                    "ename": "",
                    "evalue": "Msg 8134, Level 16, State 1, Line 1\r\nDivide by zero error encountered.",
                    "traceback": []
                }
            ],
            "execution_count": 29
        },
        {
            "cell_type": "code",
            "source": [
                "--- Find how many 20+ mile runs I did for each training block. Sum up the total distance, hours run, and find the average pace and heart rate. Exlude anything that was >=26 miles because those were the actual marathons.\r\n",
                "SELECT\r\n",
                "    training_block,\r\n",
                "    COUNT(*) AS _20mile_run_cnt,\r\n",
                "    SUM(distance) AS total_distance,\r\n",
                "    SUM(total_time_seconds) / 3600.0 AS hrs_run,\r\n",
                "    (SUM(total_time_seconds) / 60.0) / SUM(distance) AS overall_avg_pace,\r\n",
                "    AVG(1.0 * avg_hr) AS overall_avg_hr\r\n",
                "FROM\r\n",
                "marathon_2123\r\n",
                "WHERE distance >= 20 AND distance < 26\r\n",
                "GROUP BY training_block\r\n",
                "ORDER BY overall_avg_pace;"
            ],
            "metadata": {
                "azdata_cell_guid": "d3c4028b-bb56-4e1f-991b-69ce68d7e63d",
                "language": "sql",
                "tags": []
            },
            "outputs": [
                {
                    "output_type": "display_data",
                    "data": {
                        "text/html": "(5 rows affected)"
                    },
                    "metadata": {}
                },
                {
                    "output_type": "display_data",
                    "data": {
                        "text/html": "Total execution time: 00:00:00.042"
                    },
                    "metadata": {}
                },
                {
                    "output_type": "execute_result",
                    "execution_count": 77,
                    "data": {
                        "application/vnd.dataresource+json": {
                            "schema": {
                                "fields": [
                                    {
                                        "name": "training_block"
                                    },
                                    {
                                        "name": "_20mile_run_cnt"
                                    },
                                    {
                                        "name": "total_distance"
                                    },
                                    {
                                        "name": "hrs_run"
                                    },
                                    {
                                        "name": "overall_avg_pace"
                                    },
                                    {
                                        "name": "overall_avg_hr"
                                    }
                                ]
                            },
                            "data": [
                                {
                                    "training_block": "2023 Boston Marathon",
                                    "_20mile_run_cnt": "3",
                                    "total_distance": "64.02",
                                    "hrs_run": "7.383055",
                                    "overall_avg_pace": "6.9194522492970946579194001",
                                    "overall_avg_hr": "162.666666"
                                },
                                {
                                    "training_block": "2022 Boston Marathon",
                                    "_20mile_run_cnt": "5",
                                    "total_distance": "104.03",
                                    "hrs_run": "12.138888",
                                    "overall_avg_pace": "7.0011855522445448428337979",
                                    "overall_avg_hr": "159.200000"
                                },
                                {
                                    "training_block": "2023 Philadelphia Marathon",
                                    "_20mile_run_cnt": "4",
                                    "total_distance": "84.04",
                                    "hrs_run": "9.879722",
                                    "overall_avg_pace": "7.0535855901951451689671584",
                                    "overall_avg_hr": "155.750000"
                                },
                                {
                                    "training_block": "2022 Philadelphia Marathon",
                                    "_20mile_run_cnt": "3",
                                    "total_distance": "62.00",
                                    "hrs_run": "7.401944",
                                    "overall_avg_pace": "7.1631720322580645161290322",
                                    "overall_avg_hr": "164.333333"
                                },
                                {
                                    "training_block": "2021 Philadelphia Marathon",
                                    "_20mile_run_cnt": "2",
                                    "total_distance": "40.02",
                                    "hrs_run": "4.868055",
                                    "overall_avg_pace": "7.2984341079460269865067466",
                                    "overall_avg_hr": "162.500000"
                                }
                            ]
                        },
                        "text/html": "<table><tr><th>training_block</th><th>_20mile_run_cnt</th><th>total_distance</th><th>hrs_run</th><th>overall_avg_pace</th><th>overall_avg_hr</th></tr><tr><td>2023 Boston Marathon</td><td>3</td><td>64.02</td><td>7.383055</td><td>6.9194522492970946579194001</td><td>162.666666</td></tr><tr><td>2022 Boston Marathon</td><td>5</td><td>104.03</td><td>12.138888</td><td>7.0011855522445448428337979</td><td>159.200000</td></tr><tr><td>2023 Philadelphia Marathon</td><td>4</td><td>84.04</td><td>9.879722</td><td>7.0535855901951451689671584</td><td>155.750000</td></tr><tr><td>2022 Philadelphia Marathon</td><td>3</td><td>62.00</td><td>7.401944</td><td>7.1631720322580645161290322</td><td>164.333333</td></tr><tr><td>2021 Philadelphia Marathon</td><td>2</td><td>40.02</td><td>4.868055</td><td>7.2984341079460269865067466</td><td>162.500000</td></tr></table>"
                    },
                    "metadata": {}
                }
            ],
            "execution_count": 77
        },
        {
            "cell_type": "code",
            "source": [
                "--- Find how many long runs I did for each training block. Sum up the total distance, hours run, and find the average pace and heart rate.\r\n",
                "SELECT\r\n",
                "    training_block,\r\n",
                "    COUNT(*) AS long_run_cnt,\r\n",
                "    SUM(distance) AS total_distance,\r\n",
                "    SUM(total_time_seconds) / 3600.0 AS hrs_run,\r\n",
                "    (SUM(total_time_seconds) / 60.0) / SUM(distance) AS overall_avg_pace,\r\n",
                "    AVG(1.0 * avg_hr) AS overall_avg_hr\r\n",
                "FROM\r\n",
                "marathon_2123\r\n",
                "WHERE distance >= 13 AND distance < 26\r\n",
                "GROUP BY training_block\r\n",
                "ORDER BY overall_avg_pace;"
            ],
            "metadata": {
                "language": "sql",
                "azdata_cell_guid": "27e934ef-f548-44b0-8278-35384511b01d",
                "tags": []
            },
            "outputs": [
                {
                    "output_type": "display_data",
                    "data": {
                        "text/html": "(6 rows affected)"
                    },
                    "metadata": {}
                },
                {
                    "output_type": "display_data",
                    "data": {
                        "text/html": "Total execution time: 00:00:00.073"
                    },
                    "metadata": {}
                },
                {
                    "output_type": "execute_result",
                    "execution_count": 88,
                    "data": {
                        "application/vnd.dataresource+json": {
                            "schema": {
                                "fields": [
                                    {
                                        "name": "training_block"
                                    },
                                    {
                                        "name": "long_run_cnt"
                                    },
                                    {
                                        "name": "total_distance"
                                    },
                                    {
                                        "name": "hrs_run"
                                    },
                                    {
                                        "name": "overall_avg_pace"
                                    },
                                    {
                                        "name": "overall_avg_hr"
                                    }
                                ]
                            },
                            "data": [
                                {
                                    "training_block": "2023 Boston Marathon",
                                    "long_run_cnt": "14",
                                    "total_distance": "227.06",
                                    "hrs_run": "26.178055",
                                    "overall_avg_pace": "6.9174814278164361842684752",
                                    "overall_avg_hr": "154.357142"
                                },
                                {
                                    "training_block": "2022 Boston Marathon",
                                    "long_run_cnt": "10",
                                    "total_distance": "180.08",
                                    "hrs_run": "21.119722",
                                    "overall_avg_pace": "7.0367799478009773434029320",
                                    "overall_avg_hr": "148.900000"
                                },
                                {
                                    "training_block": "2023 Philadelphia Marathon",
                                    "long_run_cnt": "10",
                                    "total_distance": "176.44",
                                    "hrs_run": "20.978055",
                                    "overall_avg_pace": "7.1337754080707322602584447",
                                    "overall_avg_hr": "151.600000"
                                },
                                {
                                    "training_block": "2021 Philadelphia Marathon",
                                    "long_run_cnt": "4",
                                    "total_distance": "66.04",
                                    "hrs_run": "7.986388",
                                    "overall_avg_pace": "7.2559559812235009085402786",
                                    "overall_avg_hr": "162.500000"
                                },
                                {
                                    "training_block": "2022 Philadelphia Marathon",
                                    "long_run_cnt": "10",
                                    "total_distance": "161.05",
                                    "hrs_run": "19.509722",
                                    "overall_avg_pace": "7.2684466501086619062402980",
                                    "overall_avg_hr": "155.900000"
                                },
                                {
                                    "training_block": "OFFSEASON",
                                    "long_run_cnt": "10",
                                    "total_distance": "135.64",
                                    "hrs_run": "16.573888",
                                    "overall_avg_pace": "7.3314164921851961073429666",
                                    "overall_avg_hr": "152.600000"
                                }
                            ]
                        },
                        "text/html": "<table><tr><th>training_block</th><th>long_run_cnt</th><th>total_distance</th><th>hrs_run</th><th>overall_avg_pace</th><th>overall_avg_hr</th></tr><tr><td>2023 Boston Marathon</td><td>14</td><td>227.06</td><td>26.178055</td><td>6.9174814278164361842684752</td><td>154.357142</td></tr><tr><td>2022 Boston Marathon</td><td>10</td><td>180.08</td><td>21.119722</td><td>7.0367799478009773434029320</td><td>148.900000</td></tr><tr><td>2023 Philadelphia Marathon</td><td>10</td><td>176.44</td><td>20.978055</td><td>7.1337754080707322602584447</td><td>151.600000</td></tr><tr><td>2021 Philadelphia Marathon</td><td>4</td><td>66.04</td><td>7.986388</td><td>7.2559559812235009085402786</td><td>162.500000</td></tr><tr><td>2022 Philadelphia Marathon</td><td>10</td><td>161.05</td><td>19.509722</td><td>7.2684466501086619062402980</td><td>155.900000</td></tr><tr><td>OFFSEASON</td><td>10</td><td>135.64</td><td>16.573888</td><td>7.3314164921851961073429666</td><td>152.600000</td></tr></table>"
                    },
                    "metadata": {}
                }
            ],
            "execution_count": 88
        },
        {
            "cell_type": "code",
            "source": [
                "--- Find the top 10 longest runs for each training block. Exlude anything that was >=26 miles because those were the actual marathons.\r\n",
                "SELECT \r\n",
                "    training_block,\r\n",
                "    activity_date_2,\r\n",
                "    distance,\r\n",
                "    avg_pace,\r\n",
                "    mileage_rnk\r\n",
                "FROM (\r\n",
                "SELECT\r\n",
                "    training_block,\r\n",
                "    activity_date_2,\r\n",
                "    distance,\r\n",
                "    avg_pace,\r\n",
                "    RANK() OVER(PARTITION BY training_block ORDER BY distance DESC) AS mileage_rnk\r\n",
                "FROM marathon_2123\r\n",
                "WHERE distance < 26) AS rnked_miles\r\n",
                "WHERE mileage_rnk <= 10;"
            ],
            "metadata": {
                "language": "sql",
                "azdata_cell_guid": "f303ab17-8ed1-4ad8-97c9-f49ef6c7c573",
                "tags": []
            },
            "outputs": [
                {
                    "output_type": "display_data",
                    "data": {
                        "text/html": "(63 rows affected)"
                    },
                    "metadata": {}
                },
                {
                    "output_type": "display_data",
                    "data": {
                        "text/html": "Total execution time: 00:00:00.072"
                    },
                    "metadata": {}
                },
                {
                    "output_type": "execute_result",
                    "metadata": {},
                    "execution_count": 3,
                    "data": {
                        "application/vnd.dataresource+json": {
                            "schema": {
                                "fields": [
                                    {
                                        "name": "training_block"
                                    },
                                    {
                                        "name": "activity_date_2"
                                    },
                                    {
                                        "name": "distance"
                                    },
                                    {
                                        "name": "avg_pace"
                                    },
                                    {
                                        "name": "mileage_rnk"
                                    }
                                ]
                            },
                            "data": [
                                {
                                    "training_block": "2021 Philadelphia Marathon",
                                    "activity_date_2": "2021-11-07",
                                    "distance": "20.01",
                                    "avg_pace": "7:17",
                                    "mileage_rnk": "1"
                                },
                                {
                                    "training_block": "2021 Philadelphia Marathon",
                                    "activity_date_2": "2021-10-31",
                                    "distance": "20.01",
                                    "avg_pace": "7:19",
                                    "mileage_rnk": "1"
                                },
                                {
                                    "training_block": "2021 Philadelphia Marathon",
                                    "activity_date_2": "2021-11-14",
                                    "distance": "13.01",
                                    "avg_pace": "7:14",
                                    "mileage_rnk": "3"
                                },
                                {
                                    "training_block": "2021 Philadelphia Marathon",
                                    "activity_date_2": "2021-10-17",
                                    "distance": "13.01",
                                    "avg_pace": "7:09",
                                    "mileage_rnk": "3"
                                },
                                {
                                    "training_block": "2021 Philadelphia Marathon",
                                    "activity_date_2": "2021-10-03",
                                    "distance": "10.01",
                                    "avg_pace": "7:15",
                                    "mileage_rnk": "5"
                                },
                                {
                                    "training_block": "2021 Philadelphia Marathon",
                                    "activity_date_2": "2021-08-09",
                                    "distance": "10.01",
                                    "avg_pace": "7:17",
                                    "mileage_rnk": "5"
                                },
                                {
                                    "training_block": "2021 Philadelphia Marathon",
                                    "activity_date_2": "2021-08-04",
                                    "distance": "10.01",
                                    "avg_pace": "7:00",
                                    "mileage_rnk": "5"
                                },
                                {
                                    "training_block": "2021 Philadelphia Marathon",
                                    "activity_date_2": "2021-08-03",
                                    "distance": "6.01",
                                    "avg_pace": "6:55",
                                    "mileage_rnk": "8"
                                },
                                {
                                    "training_block": "2021 Philadelphia Marathon",
                                    "activity_date_2": "2021-08-17",
                                    "distance": "6.01",
                                    "avg_pace": "7:09",
                                    "mileage_rnk": "8"
                                },
                                {
                                    "training_block": "2021 Philadelphia Marathon",
                                    "activity_date_2": "2021-10-13",
                                    "distance": "6.01",
                                    "avg_pace": "7:12",
                                    "mileage_rnk": "8"
                                },
                                {
                                    "training_block": "2021 Philadelphia Marathon",
                                    "activity_date_2": "2021-10-12",
                                    "distance": "6.01",
                                    "avg_pace": "6:59",
                                    "mileage_rnk": "8"
                                },
                                {
                                    "training_block": "2021 Philadelphia Marathon",
                                    "activity_date_2": "2021-08-30",
                                    "distance": "6.01",
                                    "avg_pace": "7:10",
                                    "mileage_rnk": "8"
                                },
                                {
                                    "training_block": "2021 Philadelphia Marathon",
                                    "activity_date_2": "2021-11-09",
                                    "distance": "6.01",
                                    "avg_pace": "7:33",
                                    "mileage_rnk": "8"
                                },
                                {
                                    "training_block": "2022 Boston Marathon",
                                    "activity_date_2": "2022-03-20",
                                    "distance": "22.01",
                                    "avg_pace": "7:11",
                                    "mileage_rnk": "1"
                                },
                                {
                                    "training_block": "2022 Boston Marathon",
                                    "activity_date_2": "2022-03-13",
                                    "distance": "22.01",
                                    "avg_pace": "6:45",
                                    "mileage_rnk": "1"
                                },
                                {
                                    "training_block": "2022 Boston Marathon",
                                    "activity_date_2": "2022-02-13",
                                    "distance": "20.01",
                                    "avg_pace": "6:46",
                                    "mileage_rnk": "3"
                                },
                                {
                                    "training_block": "2022 Boston Marathon",
                                    "activity_date_2": "2022-02-27",
                                    "distance": "20.00",
                                    "avg_pace": "6:57",
                                    "mileage_rnk": "4"
                                },
                                {
                                    "training_block": "2022 Boston Marathon",
                                    "activity_date_2": "2022-04-03",
                                    "distance": "20.00",
                                    "avg_pace": "7:22",
                                    "mileage_rnk": "4"
                                },
                                {
                                    "training_block": "2022 Boston Marathon",
                                    "activity_date_2": "2022-02-06",
                                    "distance": "18.01",
                                    "avg_pace": "7:16",
                                    "mileage_rnk": "6"
                                },
                                {
                                    "training_block": "2022 Boston Marathon",
                                    "activity_date_2": "2022-01-23",
                                    "distance": "16.01",
                                    "avg_pace": "7:14",
                                    "mileage_rnk": "7"
                                },
                                {
                                    "training_block": "2022 Boston Marathon",
                                    "activity_date_2": "2022-01-16",
                                    "distance": "15.01",
                                    "avg_pace": "7:08",
                                    "mileage_rnk": "8"
                                },
                                {
                                    "training_block": "2022 Boston Marathon",
                                    "activity_date_2": "2022-01-09",
                                    "distance": "14.01",
                                    "avg_pace": "7:07",
                                    "mileage_rnk": "9"
                                },
                                {
                                    "training_block": "2022 Boston Marathon",
                                    "activity_date_2": "2022-04-10",
                                    "distance": "13.01",
                                    "avg_pace": "6:35",
                                    "mileage_rnk": "10"
                                },
                                {
                                    "training_block": "2022 Philadelphia Marathon",
                                    "activity_date_2": "2022-10-29",
                                    "distance": "22.00",
                                    "avg_pace": "7:04",
                                    "mileage_rnk": "1"
                                },
                                {
                                    "training_block": "2022 Philadelphia Marathon",
                                    "activity_date_2": "2022-10-16",
                                    "distance": "20.00",
                                    "avg_pace": "7:04",
                                    "mileage_rnk": "2"
                                },
                                {
                                    "training_block": "2022 Philadelphia Marathon",
                                    "activity_date_2": "2022-11-06",
                                    "distance": "20.00",
                                    "avg_pace": "7:22",
                                    "mileage_rnk": "2"
                                },
                                {
                                    "training_block": "2022 Philadelphia Marathon",
                                    "activity_date_2": "2022-10-09",
                                    "distance": "18.01",
                                    "avg_pace": "7:08",
                                    "mileage_rnk": "4"
                                },
                                {
                                    "training_block": "2022 Philadelphia Marathon",
                                    "activity_date_2": "2022-09-25",
                                    "distance": "15.01",
                                    "avg_pace": "7:14",
                                    "mileage_rnk": "5"
                                },
                                {
                                    "training_block": "2022 Philadelphia Marathon",
                                    "activity_date_2": "2022-09-18",
                                    "distance": "14.00",
                                    "avg_pace": "7:28",
                                    "mileage_rnk": "6"
                                },
                                {
                                    "training_block": "2022 Philadelphia Marathon",
                                    "activity_date_2": "2022-09-11",
                                    "distance": "13.01",
                                    "avg_pace": "7:19",
                                    "mileage_rnk": "7"
                                },
                                {
                                    "training_block": "2022 Philadelphia Marathon",
                                    "activity_date_2": "2022-10-23",
                                    "distance": "13.01",
                                    "avg_pace": "7:22",
                                    "mileage_rnk": "7"
                                },
                                {
                                    "training_block": "2022 Philadelphia Marathon",
                                    "activity_date_2": "2022-11-13",
                                    "distance": "13.01",
                                    "avg_pace": "7:09",
                                    "mileage_rnk": "7"
                                },
                                {
                                    "training_block": "2022 Philadelphia Marathon",
                                    "activity_date_2": "2022-08-28",
                                    "distance": "13.00",
                                    "avg_pace": "7:47",
                                    "mileage_rnk": "10"
                                },
                                {
                                    "training_block": "2023 Boston Marathon",
                                    "activity_date_2": "2023-03-19",
                                    "distance": "24.01",
                                    "avg_pace": "6:58",
                                    "mileage_rnk": "1"
                                },
                                {
                                    "training_block": "2023 Boston Marathon",
                                    "activity_date_2": "2023-03-05",
                                    "distance": "20.01",
                                    "avg_pace": "6:50",
                                    "mileage_rnk": "2"
                                },
                                {
                                    "training_block": "2023 Boston Marathon",
                                    "activity_date_2": "2023-04-01",
                                    "distance": "20.00",
                                    "avg_pace": "6:57",
                                    "mileage_rnk": "3"
                                },
                                {
                                    "training_block": "2023 Boston Marathon",
                                    "activity_date_2": "2023-02-19",
                                    "distance": "18.01",
                                    "avg_pace": "7:04",
                                    "mileage_rnk": "4"
                                },
                                {
                                    "training_block": "2023 Boston Marathon",
                                    "activity_date_2": "2023-03-12",
                                    "distance": "17.11",
                                    "avg_pace": "7:07",
                                    "mileage_rnk": "5"
                                },
                                {
                                    "training_block": "2023 Boston Marathon",
                                    "activity_date_2": "2023-02-11",
                                    "distance": "16.02",
                                    "avg_pace": "6:53",
                                    "mileage_rnk": "6"
                                },
                                {
                                    "training_block": "2023 Boston Marathon",
                                    "activity_date_2": "2023-02-05",
                                    "distance": "16.01",
                                    "avg_pace": "7:01",
                                    "mileage_rnk": "7"
                                },
                                {
                                    "training_block": "2023 Boston Marathon",
                                    "activity_date_2": "2023-01-29",
                                    "distance": "15.02",
                                    "avg_pace": "6:49",
                                    "mileage_rnk": "8"
                                },
                                {
                                    "training_block": "2023 Boston Marathon",
                                    "activity_date_2": "2023-01-22",
                                    "distance": "15.01",
                                    "avg_pace": "6:54",
                                    "mileage_rnk": "9"
                                },
                                {
                                    "training_block": "2023 Boston Marathon",
                                    "activity_date_2": "2023-03-26",
                                    "distance": "13.36",
                                    "avg_pace": "6:06",
                                    "mileage_rnk": "10"
                                },
                                {
                                    "training_block": "2023 Philadelphia Marathon",
                                    "activity_date_2": "2023-10-28",
                                    "distance": "22.01",
                                    "avg_pace": "7:17",
                                    "mileage_rnk": "1"
                                },
                                {
                                    "training_block": "2023 Philadelphia Marathon",
                                    "activity_date_2": "2023-10-21",
                                    "distance": "22.01",
                                    "avg_pace": "6:57",
                                    "mileage_rnk": "1"
                                },
                                {
                                    "training_block": "2023 Philadelphia Marathon",
                                    "activity_date_2": "2023-10-08",
                                    "distance": "20.01",
                                    "avg_pace": "7:03",
                                    "mileage_rnk": "3"
                                },
                                {
                                    "training_block": "2023 Philadelphia Marathon",
                                    "activity_date_2": "2023-11-05",
                                    "distance": "20.01",
                                    "avg_pace": "6:56",
                                    "mileage_rnk": "3"
                                },
                                {
                                    "training_block": "2023 Philadelphia Marathon",
                                    "activity_date_2": "2023-10-01",
                                    "distance": "18.01",
                                    "avg_pace": "7:23",
                                    "mileage_rnk": "5"
                                },
                                {
                                    "training_block": "2023 Philadelphia Marathon",
                                    "activity_date_2": "2023-09-10",
                                    "distance": "16.23",
                                    "avg_pace": "7:16",
                                    "mileage_rnk": "6"
                                },
                                {
                                    "training_block": "2023 Philadelphia Marathon",
                                    "activity_date_2": "2023-08-06",
                                    "distance": "15.13",
                                    "avg_pace": "7:05",
                                    "mileage_rnk": "7"
                                },
                                {
                                    "training_block": "2023 Philadelphia Marathon",
                                    "activity_date_2": "2023-08-13",
                                    "distance": "15.01",
                                    "avg_pace": "7:21",
                                    "mileage_rnk": "8"
                                },
                                {
                                    "training_block": "2023 Philadelphia Marathon",
                                    "activity_date_2": "2023-10-15",
                                    "distance": "15.01",
                                    "avg_pace": "6:50",
                                    "mileage_rnk": "8"
                                },
                                {
                                    "training_block": "2023 Philadelphia Marathon",
                                    "activity_date_2": "2023-11-12",
                                    "distance": "13.01",
                                    "avg_pace": "7:17",
                                    "mileage_rnk": "10"
                                },
                                {
                                    "training_block": "OFFSEASON",
                                    "activity_date_2": "2023-07-29",
                                    "distance": "15.51",
                                    "avg_pace": "7:07",
                                    "mileage_rnk": "1"
                                },
                                {
                                    "training_block": "OFFSEASON",
                                    "activity_date_2": "2023-07-16",
                                    "distance": "14.06",
                                    "avg_pace": "7:11",
                                    "mileage_rnk": "2"
                                },
                                {
                                    "training_block": "OFFSEASON",
                                    "activity_date_2": "2023-07-23",
                                    "distance": "14.01",
                                    "avg_pace": "7:11",
                                    "mileage_rnk": "3"
                                },
                                {
                                    "training_block": "OFFSEASON",
                                    "activity_date_2": "2023-07-02",
                                    "distance": "14.01",
                                    "avg_pace": "7:35",
                                    "mileage_rnk": "3"
                                },
                                {
                                    "training_block": "OFFSEASON",
                                    "activity_date_2": "2023-06-25",
                                    "distance": "13.01",
                                    "avg_pace": "7:55",
                                    "mileage_rnk": "5"
                                },
                                {
                                    "training_block": "OFFSEASON",
                                    "activity_date_2": "2023-06-18",
                                    "distance": "13.01",
                                    "avg_pace": "7:13",
                                    "mileage_rnk": "5"
                                },
                                {
                                    "training_block": "OFFSEASON",
                                    "activity_date_2": "2023-06-11",
                                    "distance": "13.01",
                                    "avg_pace": "7:13",
                                    "mileage_rnk": "5"
                                },
                                {
                                    "training_block": "OFFSEASON",
                                    "activity_date_2": "2022-06-19",
                                    "distance": "13.01",
                                    "avg_pace": "7:23",
                                    "mileage_rnk": "5"
                                },
                                {
                                    "training_block": "OFFSEASON",
                                    "activity_date_2": "2021-12-26",
                                    "distance": "13.01",
                                    "avg_pace": "7:10",
                                    "mileage_rnk": "5"
                                },
                                {
                                    "training_block": "OFFSEASON",
                                    "activity_date_2": "2022-06-26",
                                    "distance": "13.00",
                                    "avg_pace": "7:24",
                                    "mileage_rnk": "10"
                                }
                            ]
                        },
                        "text/html": [
                            "<table>",
                            "<tr><th>training_block</th><th>activity_date_2</th><th>distance</th><th>avg_pace</th><th>mileage_rnk</th></tr>",
                            "<tr><td>2021 Philadelphia Marathon</td><td>2021-11-07</td><td>20.01</td><td>7:17</td><td>1</td></tr>",
                            "<tr><td>2021 Philadelphia Marathon</td><td>2021-10-31</td><td>20.01</td><td>7:19</td><td>1</td></tr>",
                            "<tr><td>2021 Philadelphia Marathon</td><td>2021-11-14</td><td>13.01</td><td>7:14</td><td>3</td></tr>",
                            "<tr><td>2021 Philadelphia Marathon</td><td>2021-10-17</td><td>13.01</td><td>7:09</td><td>3</td></tr>",
                            "<tr><td>2021 Philadelphia Marathon</td><td>2021-10-03</td><td>10.01</td><td>7:15</td><td>5</td></tr>",
                            "<tr><td>2021 Philadelphia Marathon</td><td>2021-08-09</td><td>10.01</td><td>7:17</td><td>5</td></tr>",
                            "<tr><td>2021 Philadelphia Marathon</td><td>2021-08-04</td><td>10.01</td><td>7:00</td><td>5</td></tr>",
                            "<tr><td>2021 Philadelphia Marathon</td><td>2021-08-03</td><td>6.01</td><td>6:55</td><td>8</td></tr>",
                            "<tr><td>2021 Philadelphia Marathon</td><td>2021-08-17</td><td>6.01</td><td>7:09</td><td>8</td></tr>",
                            "<tr><td>2021 Philadelphia Marathon</td><td>2021-10-13</td><td>6.01</td><td>7:12</td><td>8</td></tr>",
                            "<tr><td>2021 Philadelphia Marathon</td><td>2021-10-12</td><td>6.01</td><td>6:59</td><td>8</td></tr>",
                            "<tr><td>2021 Philadelphia Marathon</td><td>2021-08-30</td><td>6.01</td><td>7:10</td><td>8</td></tr>",
                            "<tr><td>2021 Philadelphia Marathon</td><td>2021-11-09</td><td>6.01</td><td>7:33</td><td>8</td></tr>",
                            "<tr><td>2022 Boston Marathon</td><td>2022-03-20</td><td>22.01</td><td>7:11</td><td>1</td></tr>",
                            "<tr><td>2022 Boston Marathon</td><td>2022-03-13</td><td>22.01</td><td>6:45</td><td>1</td></tr>",
                            "<tr><td>2022 Boston Marathon</td><td>2022-02-13</td><td>20.01</td><td>6:46</td><td>3</td></tr>",
                            "<tr><td>2022 Boston Marathon</td><td>2022-02-27</td><td>20.00</td><td>6:57</td><td>4</td></tr>",
                            "<tr><td>2022 Boston Marathon</td><td>2022-04-03</td><td>20.00</td><td>7:22</td><td>4</td></tr>",
                            "<tr><td>2022 Boston Marathon</td><td>2022-02-06</td><td>18.01</td><td>7:16</td><td>6</td></tr>",
                            "<tr><td>2022 Boston Marathon</td><td>2022-01-23</td><td>16.01</td><td>7:14</td><td>7</td></tr>",
                            "<tr><td>2022 Boston Marathon</td><td>2022-01-16</td><td>15.01</td><td>7:08</td><td>8</td></tr>",
                            "<tr><td>2022 Boston Marathon</td><td>2022-01-09</td><td>14.01</td><td>7:07</td><td>9</td></tr>",
                            "<tr><td>2022 Boston Marathon</td><td>2022-04-10</td><td>13.01</td><td>6:35</td><td>10</td></tr>",
                            "<tr><td>2022 Philadelphia Marathon</td><td>2022-10-29</td><td>22.00</td><td>7:04</td><td>1</td></tr>",
                            "<tr><td>2022 Philadelphia Marathon</td><td>2022-10-16</td><td>20.00</td><td>7:04</td><td>2</td></tr>",
                            "<tr><td>2022 Philadelphia Marathon</td><td>2022-11-06</td><td>20.00</td><td>7:22</td><td>2</td></tr>",
                            "<tr><td>2022 Philadelphia Marathon</td><td>2022-10-09</td><td>18.01</td><td>7:08</td><td>4</td></tr>",
                            "<tr><td>2022 Philadelphia Marathon</td><td>2022-09-25</td><td>15.01</td><td>7:14</td><td>5</td></tr>",
                            "<tr><td>2022 Philadelphia Marathon</td><td>2022-09-18</td><td>14.00</td><td>7:28</td><td>6</td></tr>",
                            "<tr><td>2022 Philadelphia Marathon</td><td>2022-09-11</td><td>13.01</td><td>7:19</td><td>7</td></tr>",
                            "<tr><td>2022 Philadelphia Marathon</td><td>2022-10-23</td><td>13.01</td><td>7:22</td><td>7</td></tr>",
                            "<tr><td>2022 Philadelphia Marathon</td><td>2022-11-13</td><td>13.01</td><td>7:09</td><td>7</td></tr>",
                            "<tr><td>2022 Philadelphia Marathon</td><td>2022-08-28</td><td>13.00</td><td>7:47</td><td>10</td></tr>",
                            "<tr><td>2023 Boston Marathon</td><td>2023-03-19</td><td>24.01</td><td>6:58</td><td>1</td></tr>",
                            "<tr><td>2023 Boston Marathon</td><td>2023-03-05</td><td>20.01</td><td>6:50</td><td>2</td></tr>",
                            "<tr><td>2023 Boston Marathon</td><td>2023-04-01</td><td>20.00</td><td>6:57</td><td>3</td></tr>",
                            "<tr><td>2023 Boston Marathon</td><td>2023-02-19</td><td>18.01</td><td>7:04</td><td>4</td></tr>",
                            "<tr><td>2023 Boston Marathon</td><td>2023-03-12</td><td>17.11</td><td>7:07</td><td>5</td></tr>",
                            "<tr><td>2023 Boston Marathon</td><td>2023-02-11</td><td>16.02</td><td>6:53</td><td>6</td></tr>",
                            "<tr><td>2023 Boston Marathon</td><td>2023-02-05</td><td>16.01</td><td>7:01</td><td>7</td></tr>",
                            "<tr><td>2023 Boston Marathon</td><td>2023-01-29</td><td>15.02</td><td>6:49</td><td>8</td></tr>",
                            "<tr><td>2023 Boston Marathon</td><td>2023-01-22</td><td>15.01</td><td>6:54</td><td>9</td></tr>",
                            "<tr><td>2023 Boston Marathon</td><td>2023-03-26</td><td>13.36</td><td>6:06</td><td>10</td></tr>",
                            "<tr><td>2023 Philadelphia Marathon</td><td>2023-10-28</td><td>22.01</td><td>7:17</td><td>1</td></tr>",
                            "<tr><td>2023 Philadelphia Marathon</td><td>2023-10-21</td><td>22.01</td><td>6:57</td><td>1</td></tr>",
                            "<tr><td>2023 Philadelphia Marathon</td><td>2023-10-08</td><td>20.01</td><td>7:03</td><td>3</td></tr>",
                            "<tr><td>2023 Philadelphia Marathon</td><td>2023-11-05</td><td>20.01</td><td>6:56</td><td>3</td></tr>",
                            "<tr><td>2023 Philadelphia Marathon</td><td>2023-10-01</td><td>18.01</td><td>7:23</td><td>5</td></tr>",
                            "<tr><td>2023 Philadelphia Marathon</td><td>2023-09-10</td><td>16.23</td><td>7:16</td><td>6</td></tr>",
                            "<tr><td>2023 Philadelphia Marathon</td><td>2023-08-06</td><td>15.13</td><td>7:05</td><td>7</td></tr>",
                            "<tr><td>2023 Philadelphia Marathon</td><td>2023-08-13</td><td>15.01</td><td>7:21</td><td>8</td></tr>",
                            "<tr><td>2023 Philadelphia Marathon</td><td>2023-10-15</td><td>15.01</td><td>6:50</td><td>8</td></tr>",
                            "<tr><td>2023 Philadelphia Marathon</td><td>2023-11-12</td><td>13.01</td><td>7:17</td><td>10</td></tr>",
                            "<tr><td>OFFSEASON</td><td>2023-07-29</td><td>15.51</td><td>7:07</td><td>1</td></tr>",
                            "<tr><td>OFFSEASON</td><td>2023-07-16</td><td>14.06</td><td>7:11</td><td>2</td></tr>",
                            "<tr><td>OFFSEASON</td><td>2023-07-23</td><td>14.01</td><td>7:11</td><td>3</td></tr>",
                            "<tr><td>OFFSEASON</td><td>2023-07-02</td><td>14.01</td><td>7:35</td><td>3</td></tr>",
                            "<tr><td>OFFSEASON</td><td>2023-06-25</td><td>13.01</td><td>7:55</td><td>5</td></tr>",
                            "<tr><td>OFFSEASON</td><td>2023-06-18</td><td>13.01</td><td>7:13</td><td>5</td></tr>",
                            "<tr><td>OFFSEASON</td><td>2023-06-11</td><td>13.01</td><td>7:13</td><td>5</td></tr>",
                            "<tr><td>OFFSEASON</td><td>2022-06-19</td><td>13.01</td><td>7:23</td><td>5</td></tr>",
                            "<tr><td>OFFSEASON</td><td>2021-12-26</td><td>13.01</td><td>7:10</td><td>5</td></tr>",
                            "<tr><td>OFFSEASON</td><td>2022-06-26</td><td>13.00</td><td>7:24</td><td>10</td></tr>",
                            "</table>"
                        ]
                    }
                }
            ],
            "execution_count": 3
        }
    ]
}